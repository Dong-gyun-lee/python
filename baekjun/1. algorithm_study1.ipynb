{
 "cells": [
  {
   "cell_type": "markdown",
   "id": "82507982",
   "metadata": {},
   "source": [
    "## 1. 요세 푸스 문제0(11866)"
   ]
  },
  {
   "cell_type": "markdown",
   "id": "a59c2fb9",
   "metadata": {},
   "source": [
    "$1$번부터 $N$번까지 $N$명의 사람이 원을 이루면서 앉아있고, 양의 정수 $K(≤ N)$가 주어진다. 이제 순서대로 $K$번째 사람을 제거한다. 한 사람이 제거되면 남은 사람들로 이루어진 원을 따라 이 과정을 계속해 나간다. 이 과정은 $N$명의 사람이 모두 제거될 때까지 계속된다. 원에서 사람들이 제거되는 순서를 $(N, K)$-요세푸스 순열이라고 한다. 예를 들어 (7, 3)-요세푸스 순열은 <3, 6, 2, 7, 5, 1, 4>이다.\n",
    "\n",
    "$N$과 $K$가 주어지면 $(N, K)$-요세푸스 순열을 구하는 프로그램을 작성하시오."
   ]
  },
  {
   "cell_type": "code",
   "execution_count": 1,
   "id": "7ceee7a0",
   "metadata": {},
   "outputs": [],
   "source": [
    "from collections import deque\n",
    "import time"
   ]
  },
  {
   "cell_type": "code",
   "execution_count": 2,
   "id": "bb71c19f",
   "metadata": {},
   "outputs": [
    {
     "name": "stdout",
     "output_type": "stream",
     "text": [
      "7 3\n"
     ]
    }
   ],
   "source": [
    "n,k = map(int,input().split())"
   ]
  },
  {
   "cell_type": "code",
   "execution_count": 3,
   "id": "e6329e78",
   "metadata": {},
   "outputs": [
    {
     "data": {
      "text/plain": [
       "deque([1, 2, 3, 4, 5, 6, 7])"
      ]
     },
     "execution_count": 3,
     "metadata": {},
     "output_type": "execute_result"
    }
   ],
   "source": [
    "people = deque(range(1,n+1))\n",
    "people"
   ]
  },
  {
   "cell_type": "code",
   "execution_count": 4,
   "id": "52b61bd6",
   "metadata": {},
   "outputs": [
    {
     "name": "stdout",
     "output_type": "stream",
     "text": [
      "<3, 6, 2, 7, 5, 1, 4>\n",
      "Run time:0.00000\n"
     ]
    }
   ],
   "source": [
    "result = []\n",
    "start =time.time()\n",
    "while people:\n",
    "    for _ in range(k-1):\n",
    "        people.append(people.popleft())\n",
    "    result.append(people.popleft())\n",
    "end =time.time()\n",
    "print('<',end='')\n",
    "print(*result,sep=', ',end='')\n",
    "print('>')\n",
    "print(f'Run time:{start-end:.5f}')"
   ]
  },
  {
   "cell_type": "markdown",
   "id": "9331d5da",
   "metadata": {},
   "source": [
    "<알고리즘 설명>\n",
    "\n",
    "데크(deque) 구조를 활용하였다. popleft() 함수를 사용하여 people 데크의 왼쪽에 있는 숫자들을 제거할 수 있다. <br> \n",
    "for문의 $1$번째,$2번째$,\\cdots\\, $k-1$ 번째 해당하는 사람은 popleft 함수를 이용하여 제거한 후, append 함수를 이용해 다시 people 데크에 넣어줌으로써 제거되지 않는 사람들의 원 구조를 유지시켜준다. <br>\n",
    "$k$ 번째에 해당하는 사람은 people에서 제거하고, result 리스트에 추가시켜줌으로써 요세푸스 순열 결과를 구한다."
   ]
  },
  {
   "cell_type": "code",
   "execution_count": 5,
   "id": "6d8c2d36",
   "metadata": {},
   "outputs": [
    {
     "name": "stdout",
     "output_type": "stream",
     "text": [
      "3 6 2 7 5 1 4\n"
     ]
    }
   ],
   "source": [
    "print(*result)"
   ]
  },
  {
   "cell_type": "code",
   "execution_count": 6,
   "id": "48801e0f",
   "metadata": {},
   "outputs": [
    {
     "name": "stdout",
     "output_type": "stream",
     "text": [
      "1\n",
      "2\n",
      "1 2\n"
     ]
    }
   ],
   "source": [
    "print(1)\n",
    "print(2)\n",
    "print(1,end=' ')\n",
    "print(2)"
   ]
  },
  {
   "cell_type": "markdown",
   "id": "8f260b21",
   "metadata": {},
   "source": [
    "## 2. RGB 거리(1149)"
   ]
  },
  {
   "cell_type": "markdown",
   "id": "c1433cd7",
   "metadata": {},
   "source": [
    "RGB거리에는 집이 $N$개 있다. 거리는 선분으로 나타낼 수 있고, $1$번 집부터 $N$번 집이 순서대로 있다.\n",
    "\n",
    "집은 빨강, 초록, 파랑 중 하나의 색으로 칠해야 한다. 각각의 집을 빨강, 초록, 파랑으로 칠하는 비용이 주어졌을 때, 아래 규칙을 만족하면서 모든 집을 칠하는 비용의 최솟값을 구해보자.\n",
    "- $1$번 집의 색은 $2$번 집의 색과 같지 않아야 한다.\n",
    "- $N$번 집의 색은 $N-1$번 집의 색과 같지 않아야 한다.\n",
    "- $i(2 ≤ i ≤ N-1)$번 집의 색은 $i-1$번, $i+1$번 집의 색과 같지 않아야 한다."
   ]
  },
  {
   "cell_type": "code",
   "execution_count": 7,
   "id": "8e54733f",
   "metadata": {},
   "outputs": [
    {
     "name": "stdout",
     "output_type": "stream",
     "text": [
      "3\n",
      "26 40 83\n",
      "49 60 57\n",
      "13 89 99\n"
     ]
    }
   ],
   "source": [
    "n  = int(input())\n",
    "info = []\n",
    "for _ in range(n):\n",
    "    info.append(list(map(int,input().split())))"
   ]
  },
  {
   "cell_type": "code",
   "execution_count": 8,
   "id": "0ae24fd1",
   "metadata": {},
   "outputs": [
    {
     "name": "stdout",
     "output_type": "stream",
     "text": [
      "96\n"
     ]
    }
   ],
   "source": [
    "for i in range(1,n):\n",
    "    #red\n",
    "    info[i][0] = min(info[i-1][1],info[i-1][2]) + info[i][0]\n",
    "    #blue\n",
    "    info[i][1] = min(info[i-1][0],info[i-1][2]) + info[i][1]\n",
    "    #green\n",
    "    info[i][2] = min(info[i-1][0],info[i-1][1]) + info[i][2]\n",
    "print(min(info[n-1]))"
   ]
  },
  {
   "cell_type": "code",
   "execution_count": 9,
   "id": "b56c354f",
   "metadata": {},
   "outputs": [
    {
     "data": {
      "text/plain": [
       "[[26, 40, 83], [89, 86, 83], [96, 172, 185]]"
      ]
     },
     "execution_count": 9,
     "metadata": {},
     "output_type": "execute_result"
    }
   ],
   "source": [
    "info"
   ]
  },
  {
   "cell_type": "markdown",
   "id": "43aece3d",
   "metadata": {},
   "source": [
    "<알고리즘 설명>\n",
    "\n",
    "\n",
    "$i$번째 집 색을 칠할 때, 그 직전의 집의 색과 겹치지 않는 것만 생각하면 해결된다. 그러므로, $i$번째 집 차례에서, red ,blue, green을 칠하는 경우의 비용을 구해준다.\n",
    "\n",
    "info list를 생성하고 info 값을 for 문을 통해 갱신해주면 info[i] 에서는 각 색을 칠할 때 비용의 최솟값을 리스트 결과로 가지게 된다."
   ]
  }
 ],
 "metadata": {
  "kernelspec": {
   "display_name": "Python 3 (ipykernel)",
   "language": "python",
   "name": "python3"
  },
  "language_info": {
   "codemirror_mode": {
    "name": "ipython",
    "version": 3
   },
   "file_extension": ".py",
   "mimetype": "text/x-python",
   "name": "python",
   "nbconvert_exporter": "python",
   "pygments_lexer": "ipython3",
   "version": "3.7.0"
  }
 },
 "nbformat": 4,
 "nbformat_minor": 5
}
