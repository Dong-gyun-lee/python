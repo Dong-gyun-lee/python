{
 "cells": [
  {
   "cell_type": "markdown",
   "id": "ae1717af",
   "metadata": {},
   "source": [
    "## 동물원(1309)"
   ]
  },
  {
   "cell_type": "markdown",
   "id": "42dec508",
   "metadata": {},
   "source": [
    "첫 번째 답 : 메모리초과"
   ]
  },
  {
   "cell_type": "code",
   "execution_count": 16,
   "id": "2d341b62",
   "metadata": {},
   "outputs": [
    {
     "name": "stdout",
     "output_type": "stream",
     "text": [
      "4\n",
      "41\n"
     ]
    }
   ],
   "source": [
    "n = int(input())\n",
    "left = [0]*100001\n",
    "right = [0]*100001\n",
    "no = [0]*100001\n",
    "\n",
    "left[1] = 1\n",
    "right[1] = 1\n",
    "no[1] = 1\n",
    "for i in range(2,n+1):\n",
    "    left[i] = right[i-1]+no[i-1]\n",
    "    right[i] = left[i-1]+no[i-1]\n",
    "    no[i] = left[i-1]+right[i-1] + no[i-1]\n",
    "\n",
    "print((left[n]+right[n]+no[n])%9901)"
   ]
  },
  {
   "cell_type": "markdown",
   "id": "7b19d8b8",
   "metadata": {},
   "source": [
    "두 번째 답 : 9901로 나눠주면 해결됨"
   ]
  },
  {
   "cell_type": "code",
   "execution_count": 17,
   "id": "f96ce7fd",
   "metadata": {},
   "outputs": [
    {
     "name": "stdout",
     "output_type": "stream",
     "text": [
      "4\n",
      "41\n"
     ]
    }
   ],
   "source": [
    "n = int(input())\n",
    "left = [0]*100001\n",
    "right = [0]*100001\n",
    "no = [0]*100001\n",
    "\n",
    "left[1] = 1\n",
    "right[1] = 1\n",
    "no[1] = 1\n",
    "for i in range(2,n+1):\n",
    "    left[i] = (right[i-1]+no[i-1])%9901\n",
    "    right[i] = (left[i-1]+no[i-1])%9901\n",
    "    no[i] = (left[i-1]+right[i-1] + no[i-1])%9901\n",
    "\n",
    "print((left[n]+right[n]+no[n])%9901)"
   ]
  },
  {
   "cell_type": "markdown",
   "id": "6102a016",
   "metadata": {},
   "source": [
    "## 리스트로 받은 문자열 리스트로 만들기"
   ]
  },
  {
   "cell_type": "code",
   "execution_count": 27,
   "id": "32c34be9",
   "metadata": {},
   "outputs": [
    {
     "name": "stdout",
     "output_type": "stream",
     "text": [
      "[[1,2,3],[4,5,6],[7,8,9]]\n"
     ]
    }
   ],
   "source": [
    "array = input()"
   ]
  },
  {
   "cell_type": "code",
   "execution_count": 28,
   "id": "8d9d08c6",
   "metadata": {},
   "outputs": [
    {
     "name": "stdout",
     "output_type": "stream",
     "text": [
      "[[1,2,3],[4,5,6],[7,8,9]]\n",
      "<class 'str'>\n"
     ]
    }
   ],
   "source": [
    "print(array)\n",
    "print(type(array))"
   ]
  },
  {
   "cell_type": "code",
   "execution_count": 29,
   "id": "a816d030",
   "metadata": {},
   "outputs": [
    {
     "name": "stdout",
     "output_type": "stream",
     "text": [
      "[[1, 2, 3], [4, 5, 6], [7, 8, 9]]\n",
      "<class 'list'>\n"
     ]
    }
   ],
   "source": [
    "import ast\n",
    "array = ast.literal_eval(array)\n",
    "print(array)\n",
    "print(type(array))"
   ]
  },
  {
   "cell_type": "code",
   "execution_count": null,
   "id": "50deabc2",
   "metadata": {},
   "outputs": [],
   "source": []
  }
 ],
 "metadata": {
  "kernelspec": {
   "display_name": "Python 3 (ipykernel)",
   "language": "python",
   "name": "python3"
  },
  "language_info": {
   "codemirror_mode": {
    "name": "ipython",
    "version": 3
   },
   "file_extension": ".py",
   "mimetype": "text/x-python",
   "name": "python",
   "nbconvert_exporter": "python",
   "pygments_lexer": "ipython3",
   "version": "3.9.6"
  }
 },
 "nbformat": 4,
 "nbformat_minor": 5
}
