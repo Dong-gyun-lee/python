{
 "cells": [
  {
   "cell_type": "markdown",
   "id": "116b8b15",
   "metadata": {},
   "source": [
    "## 1. 병든 나이트(1783)"
   ]
  },
  {
   "cell_type": "markdown",
   "id": "c220558b",
   "metadata": {},
   "source": [
    "병든 나이트가 $N × M$ 크기 체스판의 가장 왼쪽아래 칸에 위치해 있다. 병든 나이트는 건강한 보통 체스의 나이트와 다르게 4가지로만 움직일 수 있다.\n",
    "\n",
    "1. $2$칸 위로, $1$칸 오른쪽\n",
    "2. $1$칸 위로, $2$칸 오른쪽\n",
    "3. $1$칸 아래로, $2$칸 오른쪽\n",
    "4. $2$칸 아래로, $1$칸 오른쪽\n",
    "\n",
    "병든 나이트는 여행을 시작하려고 하고, 여행을 하면서 방문한 칸의 수를 최대로 하려고 한다. 병든 나이트의 이동 횟수가 4번보다 적지 않다면, 이동 방법을 모두 한 번씩 사용해야 한다. 이동 횟수가 4번보다 적은 경우(방문한 칸이 5개 미만)에는 이동 방법에 대한 제약이 없다.\n",
    "\n",
    "체스판의 크기가 주어졌을 때, 병든 나이트가 여행에서 방문할 수 있는 칸의 최대 개수를 구해보자.\n",
    "\n"
   ]
  },
  {
   "cell_type": "markdown",
   "id": "69babe92",
   "metadata": {},
   "source": [
    "<풀이 방법>\n",
    "\n",
    "1. 세로나 가로의 길이가 1이라면 시작 칸 밖에 방문하지 못한다.\n",
    "2. 세로의 길이가 2일 경우, 선택권은 2,3 방법 밖에 없고, 4번 초과 시 이동 방법을 다 사용하므로 가로의 길이가 아무리 길어도 움직임의 최댓값은 4가 된다.\n",
    "3. 가로의 길이가 6 이하일 경우, 4번 이상 움직이면, 1~4번 방법을 다 사용하므로 최댓값은 4, 최솟값은 가로 길이(m) 만큼이 된다.\n",
    "4. 세로의 길이가 3 이상이고, 가로의 길이가 7이상인 경우, 이동에 제약이 없으므로 오른쪽으로 두 칸가는 방향을 강제로 사용하는 것말고는 한 칸만 움직이면 되므로 m-2 값이 나오게 된다."
   ]
  },
  {
   "cell_type": "code",
   "execution_count": 20,
   "id": "1837388f",
   "metadata": {},
   "outputs": [
    {
     "name": "stdout",
     "output_type": "stream",
     "text": [
      "100 50\n",
      "48\n"
     ]
    }
   ],
   "source": [
    "n, m = map(int, input().split())\n",
    "if n == 1:\n",
    "    print(1)\n",
    "elif n == 2:\n",
    "    print(min(4, (m-1)//2+1))\n",
    "elif m <= 6:\n",
    "    print(min(4, m))\n",
    "else:\n",
    "    print(m-2)"
   ]
  },
  {
   "cell_type": "markdown",
   "id": "ecc11a06",
   "metadata": {},
   "source": [
    "## 2. 좌표 압축(18870)"
   ]
  },
  {
   "cell_type": "markdown",
   "id": "1470bd94",
   "metadata": {},
   "source": [
    "수직선 위에 $N$ 개의 좌표 $X_1, X_2, \\cdots , X_N$ 이 있다. 이 좌표에 좌표 압축을 적용하려고 한다.\n",
    "\n",
    "$X_i$를 좌표 압축한 결과 $X'_i$ 의 값은 $X_i > X_j$를 만족하는 서로 다른 좌표의 개수와 같아야 한다.\n",
    "\n",
    "$X_1, X_2, \\cdots, X_N$에 좌표 압축을 적용한 결과 $X'_1, X'_2, \\cdots, X'_N$를 출력해보자"
   ]
  },
  {
   "cell_type": "markdown",
   "id": "32ae232d",
   "metadata": {},
   "source": [
    "<풀이>\n",
    "\n",
    "원소들의 대소관계만 그대로 하여 가장 작은 원소가 0 이되고 그 다음 원소가 1,2 $\\cdots$ 로 나타나게 하면 된다."
   ]
  },
  {
   "cell_type": "code",
   "execution_count": 31,
   "id": "ece77e2d",
   "metadata": {},
   "outputs": [
    {
     "data": {
      "text/plain": [
       "[-10, -9, 2, 4]"
      ]
     },
     "execution_count": 31,
     "metadata": {},
     "output_type": "execute_result"
    }
   ],
   "source": [
    "x = [2,4,-10,4,-9]\n",
    "y = sorted(list(set(x)))\n",
    "y"
   ]
  },
  {
   "cell_type": "code",
   "execution_count": 33,
   "id": "98a13e9b",
   "metadata": {},
   "outputs": [
    {
     "data": {
      "text/plain": [
       "{-10: 0, -9: 1, 2: 2, 4: 3}"
      ]
     },
     "execution_count": 33,
     "metadata": {},
     "output_type": "execute_result"
    }
   ],
   "source": [
    "dic = {y[i]: i for i in range(len(y))}\n",
    "dic"
   ]
  },
  {
   "cell_type": "code",
   "execution_count": 34,
   "id": "b70843c0",
   "metadata": {},
   "outputs": [
    {
     "name": "stdout",
     "output_type": "stream",
     "text": [
      "2 3 0 3 1 "
     ]
    }
   ],
   "source": [
    "for i in x:\n",
    "    print(dic[i], end = ' ')"
   ]
  },
  {
   "cell_type": "markdown",
   "id": "63205132",
   "metadata": {},
   "source": [
    "## 3. 카드2(2164)"
   ]
  },
  {
   "cell_type": "markdown",
   "id": "2698d106",
   "metadata": {},
   "source": [
    "N장의 카드가 있다. 각각의 카드는 차례로 1부터 N까지의 번호가 붙어 있으며, 1번 카드가 제일 위에, N번 카드가 제일 아래인 상태로 순서대로 카드가 놓여 있다.\n",
    "\n",
    "이제 다음과 같은 동작을 카드가 한 장 남을 때까지 반복하게 된다. 우선, 제일 위에 있는 카드를 바닥에 버린다. 그 다음, 제일 위에 있는 카드를 제일 아래에 있는 카드 밑으로 옮긴다.\n",
    "\n",
    "예를 들어 N=4인 경우를 생각해 보자. 카드는 제일 위에서부터 1234 의 순서로 놓여있다. 1을 버리면 234가 남는다. 여기서 2를 제일 아래로 옮기면 342가 된다. 3을 버리면 42가 되고, 4를 밑으로 옮기면 24가 된다. 마지막으로 2를 버리고 나면, 남는 카드는 4가 된다.\n",
    "\n",
    "N이 주어졌을 때, 제일 마지막에 남게 되는 카드를 구하는 프로그램을 작성하시오."
   ]
  },
  {
   "cell_type": "code",
   "execution_count": 39,
   "id": "a9f75a8f",
   "metadata": {},
   "outputs": [
    {
     "name": "stdout",
     "output_type": "stream",
     "text": [
      "6\n"
     ]
    },
    {
     "data": {
      "text/plain": [
       "deque([1, 2, 3, 4, 5, 6])"
      ]
     },
     "execution_count": 39,
     "metadata": {},
     "output_type": "execute_result"
    }
   ],
   "source": [
    "from collections import deque\n",
    "\n",
    "n = int(input())\n",
    "cards = deque([i for i in range(1,n+1)])\n",
    "cards"
   ]
  },
  {
   "cell_type": "code",
   "execution_count": 41,
   "id": "df80e7a9",
   "metadata": {},
   "outputs": [
    {
     "name": "stdout",
     "output_type": "stream",
     "text": [
      "4\n"
     ]
    }
   ],
   "source": [
    "while len(cards)>1:\n",
    "    trash = cards.popleft()\n",
    "    a = cards.popleft()\n",
    "    cards.append(a)\n",
    "print(cards[0])"
   ]
  },
  {
   "cell_type": "markdown",
   "id": "0b16427e",
   "metadata": {},
   "source": [
    "## 4. 종이의 개수(1780)"
   ]
  },
  {
   "cell_type": "markdown",
   "id": "14099093",
   "metadata": {},
   "source": [
    "$N×N$ 크기의 행렬로 표현되는 종이가 있다. 종이의 각 칸에는 -1, 0, 1 중 하나가 저장되어 있다. 우리는 이 행렬을 다음과 같은 규칙에 따라 적절한 크기로 자르려고 한다.\n",
    "\n",
    "1. 만약 종이가 모두 같은 수로 되어 있다면 이 종이를 그대로 사용한다.\n",
    "2. (1)이 아닌 경우에는 종이를 같은 크기의 종이 9개로 자르고, 각각의 잘린 종이에 대해서 (1)의 과정을 반복한다.\n",
    "\n",
    "이와 같이 종이를 잘랐을 때, -1로만 채워진 종이의 개수, 0으로만 채워진 종이의 개수, 1로만 채워진 종이의 개수를 구해내는 프로그램을 작성하시오.\n",
    "\n"
   ]
  },
  {
   "cell_type": "code",
   "execution_count": 4,
   "id": "9cf530f7",
   "metadata": {},
   "outputs": [
    {
     "name": "stdout",
     "output_type": "stream",
     "text": [
      "9\n"
     ]
    }
   ],
   "source": [
    "n = int(input())"
   ]
  },
  {
   "cell_type": "code",
   "execution_count": 41,
   "id": "6df76c11",
   "metadata": {},
   "outputs": [
    {
     "name": "stdout",
     "output_type": "stream",
     "text": [
      "0 0 0 1 1 1 -1 -1 -1\n",
      "0 0 0 1 1 1 -1 -1 -1\n",
      "0 0 0 1 1 1 -1 -1 -1\n",
      "1 1 1 0 0 0 0 0 0\n",
      "1 1 1 0 0 0 0 0 0\n",
      "1 1 1 0 0 0 0 0 0\n",
      "0 1 -1 0 1 -1 0 1 -1\n",
      "0 1 -1 0 1 -1 0 1 -1\n",
      "0 1 -1 0 1 -1 0 1 -1\n"
     ]
    }
   ],
   "source": [
    "graph = [list(map(int,input().split())) for _ in range(n)]"
   ]
  },
  {
   "cell_type": "code",
   "execution_count": 42,
   "id": "6edf4853",
   "metadata": {},
   "outputs": [
    {
     "data": {
      "text/plain": [
       "[[0, 0, 0, 1, 1, 1, -1, -1, -1],\n",
       " [0, 0, 0, 1, 1, 1, -1, -1, -1],\n",
       " [0, 0, 0, 1, 1, 1, -1, -1, -1],\n",
       " [1, 1, 1, 0, 0, 0, 0, 0, 0],\n",
       " [1, 1, 1, 0, 0, 0, 0, 0, 0],\n",
       " [1, 1, 1, 0, 0, 0, 0, 0, 0],\n",
       " [0, 1, -1, 0, 1, -1, 0, 1, -1],\n",
       " [0, 1, -1, 0, 1, -1, 0, 1, -1],\n",
       " [0, 1, -1, 0, 1, -1, 0, 1, -1]]"
      ]
     },
     "execution_count": 42,
     "metadata": {},
     "output_type": "execute_result"
    }
   ],
   "source": [
    "graph"
   ]
  },
  {
   "cell_type": "code",
   "execution_count": 43,
   "id": "7d1feccb",
   "metadata": {},
   "outputs": [],
   "source": [
    "count_0 = 0\n",
    "count_1 = 0\n",
    "count_minus1 = 0\n",
    "def nine(x,y,n):\n",
    "    global count_0,count_1,count_minus1\n",
    "\n",
    "    num = graph[x][y]\n",
    "    for i in range(x,x+n):\n",
    "        for j in range(y,y+n):\n",
    "            if graph[i][j] != num :\n",
    "                for k in range(3):\n",
    "                    for l in range(3):\n",
    "                        nine(x+k*n//3,y+l*n//3,n//3)\n",
    "                return\n",
    "            \n",
    "    if num == -1:\n",
    "        count_minus1 += 1\n",
    "    elif num == 0:\n",
    "        count_0 += 1\n",
    "    else:\n",
    "        count_1 += 1 "
   ]
  },
  {
   "cell_type": "code",
   "execution_count": 44,
   "id": "a6763e30",
   "metadata": {},
   "outputs": [
    {
     "name": "stdout",
     "output_type": "stream",
     "text": [
      "10\n",
      "12\n",
      "11\n"
     ]
    }
   ],
   "source": [
    "nine(0,0,n)\n",
    "print(f'{count_minus1}\\n{count_0}\\n{count_1}')"
   ]
  }
 ],
 "metadata": {
  "kernelspec": {
   "display_name": "Python 3 (ipykernel)",
   "language": "python",
   "name": "python3"
  },
  "language_info": {
   "codemirror_mode": {
    "name": "ipython",
    "version": 3
   },
   "file_extension": ".py",
   "mimetype": "text/x-python",
   "name": "python",
   "nbconvert_exporter": "python",
   "pygments_lexer": "ipython3",
   "version": "3.10.4"
  }
 },
 "nbformat": 4,
 "nbformat_minor": 5
}
