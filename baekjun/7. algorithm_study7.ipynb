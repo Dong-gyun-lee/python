{
 "cells": [
  {
   "cell_type": "markdown",
   "id": "1ab8812b",
   "metadata": {},
   "source": [
    "## 어린왕자(1004)"
   ]
  },
  {
   "cell_type": "markdown",
   "id": "5b3951a2",
   "metadata": {},
   "source": [
    "풀이: 원 안에 시작점, 도착점 둘 다 있으면 count 안하고, 둘 중 하나만 원 안에 있는 경우는 무조건 지나가야 하므로 count"
   ]
  },
  {
   "cell_type": "code",
   "execution_count": 1,
   "id": "16d0aef5",
   "metadata": {},
   "outputs": [
    {
     "name": "stdout",
     "output_type": "stream",
     "text": [
      "2\n",
      "-5 1 12 1\n",
      "7\n",
      "1 1 8\n",
      "-3 -1 1\n",
      "2 2 2\n",
      "5 5 1\n",
      "-4 5 1\n",
      "12 1 1\n",
      "12 1 2\n",
      "3\n",
      "-5 1 5 1\n",
      "1\n",
      "0 0 2\n",
      "0\n"
     ]
    }
   ],
   "source": [
    "def inner(x,y,array,result):\n",
    "    for i,j,k in array:\n",
    "        if (x-i)**2+(y-j)**2 <= k**2:\n",
    "            result.append(1)\n",
    "        else:\n",
    "            result.append(0)\n",
    "    return result\n",
    "\n",
    "t = int(input())\n",
    "for _ in range(t):\n",
    "    x1,y1,x2,y2 = map(int,input().split())\n",
    "    array = []\n",
    "    n = int(input())\n",
    "    for i in range(n):\n",
    "        cx,cy,r = map(int,input().split())\n",
    "        array.append((cx,cy,r))\n",
    "    one = []\n",
    "    two = []\n",
    "    \n",
    "    new_one = inner(x1,y1,array,one)\n",
    "    new_two = inner(x2,y2,array,two)\n",
    "    \n",
    "    count = 0\n",
    "    for i in range(len(one)):\n",
    "        if new_one[i] != new_two[i]: \n",
    "            count +=1\n",
    "    print(count)"
   ]
  },
  {
   "cell_type": "markdown",
   "id": "ee427609",
   "metadata": {},
   "source": [
    "더 간편한 코드"
   ]
  },
  {
   "cell_type": "code",
   "execution_count": null,
   "id": "50dee4ed",
   "metadata": {},
   "outputs": [],
   "source": [
    "t = int(input())\n",
    "\n",
    "for _ in range(t):\n",
    "    x1, y1, x2, y2 = map(int, input().split())\n",
    "    n = int(input())\n",
    "    planet = 0 #거치는 행성계\n",
    "    \n",
    "    for _ in range(n):\n",
    "        px, py, radius = map(int, input().split())\n",
    "        start = (((x1 - px) ** 2) + ((y1 - py) ** 2)) ** 0.5 #행성중심부터 시작점까지의 거리\n",
    "        end = (((px - x2) ** 2) + ((py - y2) ** 2)) ** 0.5 #행성중심부터 도착점까지의 거리\n",
    "        \n",
    "        if start < radius and end < radius: #시작점과 도착점 모두 원 안에 있을 경우\n",
    "            pass\n",
    "        elif start < radius: #시작점이 안에 있을 경우\n",
    "            planet += 1\n",
    "        elif end < radius: #도착점이 안에 있을 경우\n",
    "            planet += 1\n",
    "    \n",
    "    print(planet)"
   ]
  },
  {
   "cell_type": "markdown",
   "id": "0fd64bb5",
   "metadata": {},
   "source": [
    "## 보물(1026)"
   ]
  },
  {
   "cell_type": "markdown",
   "id": "1bbd2d7e",
   "metadata": {},
   "source": [
    "답 : 틀림 why??"
   ]
  },
  {
   "cell_type": "code",
   "execution_count": 2,
   "id": "457112b0",
   "metadata": {},
   "outputs": [
    {
     "name": "stdout",
     "output_type": "stream",
     "text": [
      "5\n",
      "1 1 1 6 0\n",
      "2 7 8 3 1\n",
      "18\n"
     ]
    }
   ],
   "source": [
    "n = int(input())\n",
    "a = list(map(int,input().split()))\n",
    "b = list(map(int,input().split()))\n",
    "\n",
    "order_a = []\n",
    "for i in a:\n",
    "    order_a.append(sorted(a).index(i))\n",
    "\n",
    "order_b = []\n",
    "for i in b:\n",
    "    order_b.append(sorted(b).index(i))\n",
    "\n",
    "result=[]\n",
    "for i in order_b:\n",
    "    result.append(sorted(a,reverse=True)[i])\n",
    "result\n",
    "\n",
    "mult_list = [result[i] * b[i] for i in range(len(a))]\n",
    "print(sum(mult_list))"
   ]
  },
  {
   "cell_type": "markdown",
   "id": "21d05275",
   "metadata": {},
   "source": [
    "정답"
   ]
  },
  {
   "cell_type": "code",
   "execution_count": 6,
   "id": "6ffd65d0",
   "metadata": {},
   "outputs": [
    {
     "name": "stdout",
     "output_type": "stream",
     "text": [
      "5\n",
      "1 1 1 6 0\n",
      "2 7 8 3 1\n",
      "18\n"
     ]
    }
   ],
   "source": [
    "n = int(input())\n",
    "a_list = list(map(int, input().split()))\n",
    "b_list = list(map(int, input().split()))\n",
    "\n",
    "s = 0\n",
    "for i in range(n):\n",
    "    s += min(a_list) * max(b_list)\n",
    "    a_list.pop(a_list.index(min(a_list)))\n",
    "    b_list.pop(b_list.index(max(b_list)))\n",
    "print(s)"
   ]
  }
 ],
 "metadata": {
  "kernelspec": {
   "display_name": "Python 3 (ipykernel)",
   "language": "python",
   "name": "python3"
  },
  "language_info": {
   "codemirror_mode": {
    "name": "ipython",
    "version": 3
   },
   "file_extension": ".py",
   "mimetype": "text/x-python",
   "name": "python",
   "nbconvert_exporter": "python",
   "pygments_lexer": "ipython3",
   "version": "3.9.6"
  }
 },
 "nbformat": 4,
 "nbformat_minor": 5
}
