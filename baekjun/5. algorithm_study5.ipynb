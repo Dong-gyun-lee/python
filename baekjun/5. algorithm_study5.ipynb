{
 "cells": [
  {
   "cell_type": "markdown",
   "id": "de4439a9",
   "metadata": {},
   "source": [
    "## 1.  유기농 배추(1012)"
   ]
  },
  {
   "cell_type": "markdown",
   "id": "6e75d8d9",
   "metadata": {},
   "source": [
    "차세대 영농인 한나는 강원도 고랭지에서 유기농 배추를 재배하기로 하였다. 농약을 쓰지 않고 배추를 재배하려면 배추를 해충으로부터 보호하는 것이 중요하기 때문에, 한나는 해충 방지에 효과적인 배추흰지렁이를 구입하기로 결심한다. 이 지렁이는 배추근처에 서식하며 해충을 잡아 먹음으로써 배추를 보호한다. 특히, 어떤 배추에 배추흰지렁이가 한 마리라도 살고 있으면 이 지렁이는 인접한 다른 배추로 이동할 수 있어, 그 배추들 역시 해충으로부터 보호받을 수 있다. 한 배추의 상하좌우 네 방향에 다른 배추가 위치한 경우에 서로 인접해있는 것이다.\n",
    "\n",
    "한나가 배추를 재배하는 땅은 고르지 못해서 배추를 군데군데 심어 놓았다. 배추들이 모여있는 곳에는 배추흰지렁이가 한 마리만 있으면 되므로 서로 인접해있는 배추들이 몇 군데에 퍼져있는지 조사하면 총 몇 마리의 지렁이가 필요한지 알 수 있다. 예를 들어 배추밭이 아래와 같이 구성되어 있으면 최소 5마리의 배추흰지렁이가 필요하다. 0은 배추가 심어져 있지 않은 땅이고, 1은 배추가 심어져 있는 땅을 나타낸다."
   ]
  },
  {
   "cell_type": "markdown",
   "id": "9bf72e4f",
   "metadata": {},
   "source": [
    "#### 1) dfs 방식"
   ]
  },
  {
   "cell_type": "code",
   "execution_count": 3,
   "id": "f9acfcd1",
   "metadata": {},
   "outputs": [
    {
     "name": "stdout",
     "output_type": "stream",
     "text": [
      "2\n",
      "10 8 17\n",
      "0 0\n",
      "1 0\n",
      "1 1\n",
      "4 2\n",
      "4 3\n",
      "4 5\n",
      "2 4\n",
      "3 4\n",
      "7 4\n",
      "8 4\n",
      "9 4\n",
      "7 5\n",
      "8 5\n",
      "9 5\n",
      "7 6\n",
      "8 6\n",
      "9 6\n",
      "10 10 1\n",
      "5 5\n"
     ]
    }
   ],
   "source": [
    "import sys\n",
    "sys.setrecursionlimit(10**6)\n",
    "\n",
    "def dfs(x,y):\n",
    "        if x<0 or y<0 or x>=n or y>=m:\n",
    "            return False\n",
    "                    \n",
    "        if graph[x][y] == 1:\n",
    "            graph[x][y] = 0\n",
    "            dfs(x-1,y)\n",
    "            dfs(x+1,y)\n",
    "            dfs(x,y-1)\n",
    "            dfs(x,y+1)\n",
    "            return True\n",
    "        return False\n",
    "\n",
    "results = []\n",
    "t = int(input())\n",
    "for _ in range(t):\n",
    "    n,m,k = map(int,input().split())\n",
    "    graph = [[0]*m for _ in range(n)]\n",
    "    for _ in range(k):\n",
    "        i, j = map(int,input().split())\n",
    "        graph[i][j] = 1\n",
    "    \n",
    "    result = 0\n",
    "    for i in range(n):\n",
    "        for j in range(m):\n",
    "            if dfs(i,j) == True:\n",
    "                result+=1\n",
    "    results.append(result)"
   ]
  },
  {
   "cell_type": "code",
   "execution_count": 5,
   "id": "f7b3b9c9",
   "metadata": {},
   "outputs": [
    {
     "name": "stdout",
     "output_type": "stream",
     "text": [
      "1\n"
     ]
    }
   ],
   "source": [
    "for i in results:   \n",
    "    print(i)"
   ]
  },
  {
   "cell_type": "markdown",
   "id": "4c8f09c6",
   "metadata": {},
   "source": [
    "#### 2)bfs 방식"
   ]
  },
  {
   "cell_type": "code",
   "execution_count": 89,
   "id": "04b74450",
   "metadata": {},
   "outputs": [
    {
     "name": "stdout",
     "output_type": "stream",
     "text": [
      "2\n",
      "10 8 17\n",
      "0 0\n",
      "1 0\n",
      "1 1\n",
      "4 2\n",
      "4 3\n",
      "4 5\n",
      "2 4\n",
      "3 4\n",
      "7 4\n",
      "8 4\n",
      "9 4\n",
      "7 5\n",
      "8 5\n",
      "9 5\n",
      "7 6\n",
      "8 6\n",
      "9 6\n",
      "10 10 1\n",
      "5 5\n",
      "5\n",
      "1\n"
     ]
    }
   ],
   "source": [
    "from collections import deque\n",
    "\n",
    "dx = [-1,0,1,0]\n",
    "dy = [0,-1,0,1]\n",
    "\n",
    "\n",
    "def bfs(x,y):\n",
    "    que = deque()\n",
    "    que.append((x,y))\n",
    "    graph[x][y] = 0\n",
    "    count = 0\n",
    "    \n",
    "    while que:\n",
    "        x, y = que.popleft()\n",
    "        \n",
    "        for i in range(4):\n",
    "            nx = x + dx[i]\n",
    "            ny = y + dy[i]\n",
    "            \n",
    "            if nx<0 or ny<0 or nx>=n or ny>=m:\n",
    "                continue\n",
    "            \n",
    "            if graph[nx][ny] == 0:\n",
    "                continue\n",
    "            \n",
    "            if graph[nx][ny] == 1:\n",
    "                graph[nx][ny] = 0\n",
    "                que.append((nx,ny))\n",
    "                count = 1\n",
    "    return count\n",
    "\n",
    "results = []\n",
    "t = int(input())\n",
    "for _ in range(t):\n",
    "    n,m,k = map(int,input().split())\n",
    "    graph = [[0]*m for _ in range(n)]\n",
    "    for _ in range(k):\n",
    "        a, b = map(int,input().split())\n",
    "        graph[a][b] = 1\n",
    "    \n",
    "    result = 0\n",
    "    for i in range(n):\n",
    "        for j in range(m):\n",
    "            if bfs(i,j) == 1:\n",
    "                result += 1\n",
    "    results.append(result)\n",
    "for i in results:   \n",
    "    print(i)"
   ]
  },
  {
   "cell_type": "markdown",
   "id": "3389c730",
   "metadata": {},
   "source": [
    "## 2. 풍선 터뜨리기(2346)"
   ]
  },
  {
   "cell_type": "markdown",
   "id": "42fe9240",
   "metadata": {},
   "source": [
    "1번부터 N번까지 N개의 풍선이 원형으로 놓여 있고. i번 풍선의 오른쪽에는 i+1번 풍선이 있고, 왼쪽에는 i-1번 풍선이 있다. 단, 1번 풍선의 왼쪽에 N번 풍선이 있고, N번 풍선의 오른쪽에 1번 풍선이 있다. 각 풍선 안에는 종이가 하나 들어있고, 종이에는 -N보다 크거나 같고, N보다 작거나 같은 정수가 하나 적혀있다. 이 풍선들을 다음과 같은 규칙으로 터뜨린다.\n",
    "\n",
    "우선, 제일 처음에는 1번 풍선을 터뜨린다. 다음에는 풍선 안에 있는 종이를 꺼내어 그 종이에 적혀있는 값만큼 이동하여 다음 풍선을 터뜨린다. 양수가 적혀 있을 경우에는 오른쪽으로, 음수가 적혀 있을 때는 왼쪽으로 이동한다. 이동할 때에는 이미 터진 풍선은 빼고 이동한다.\n",
    "\n",
    "예를 들어 다섯 개의 풍선 안에 차례로 3, 2, 1, -3, -1이 적혀 있었다고 하자. 이 경우 3이 적혀 있는 1번 풍선, -3이 적혀 있는 4번 풍선, -1이 적혀 있는 5번 풍선, 1이 적혀 있는 3번 풍선, 2가 적혀 있는 2번 풍선의 순서대로 터지게 된다."
   ]
  },
  {
   "cell_type": "code",
   "execution_count": 90,
   "id": "f9a3e139",
   "metadata": {},
   "outputs": [
    {
     "name": "stdout",
     "output_type": "stream",
     "text": [
      "5\n",
      "3 2 1 -3 -1\n",
      "1 4 5 3 2 "
     ]
    }
   ],
   "source": [
    "from collections import deque\n",
    "\n",
    "n = int(input())\n",
    "a = list(map(int,input().split()))\n",
    "balloon = deque([i for i in range(1,n+1)])\n",
    "\n",
    "result = []\n",
    "result.append(balloon.popleft())\n",
    "i=a[0]\n",
    "while balloon:\n",
    "    if i>=0:\n",
    "        for _ in range(1,i):\n",
    "            b = balloon.popleft()\n",
    "            balloon.append(b)\n",
    "        c = balloon.popleft()\n",
    "        result.append(c)\n",
    "        i = a[c-1]\n",
    "    else:\n",
    "        for _ in range(1,-i):\n",
    "            b = balloon.pop()\n",
    "            balloon.appendleft(b)\n",
    "        c = balloon.pop()\n",
    "        result.append(c)\n",
    "        i = a[c-1]\n",
    "\n",
    "for i in result:\n",
    "    print(i, end=' ')"
   ]
  },
  {
   "cell_type": "markdown",
   "id": "94f4c350",
   "metadata": {},
   "source": [
    "## 3. 문자열(1120)"
   ]
  },
  {
   "cell_type": "markdown",
   "id": "56596355",
   "metadata": {},
   "source": [
    "길이가 N으로 같은 문자열 X와 Y가 있을 때, 두 문자열 X와 Y의 차이는 $X[i] ≠ Y[i]$인 i의 개수이다. 예를 들어, X=”jimin”, Y=”minji”이면, 둘의 차이는 4이다.\n",
    "\n",
    "두 문자열 A와 B가 주어진다. 이때, A의 길이는 B의 길이보다 작거나 같다. 이제 A의 길이가 B의 길이와 같아질 때 까지 다음과 같은 연산을 할 수 있다.\n",
    "\n",
    "1. A의 앞에 아무 알파벳이나 추가한다.\n",
    "2. A의 뒤에 아무 알파벳이나 추가한다.\n",
    "\n",
    "이때, A와 B의 길이가 같으면서, A와 B의 차이를 최소로 하는 프로그램을 작성하시오."
   ]
  },
  {
   "cell_type": "code",
   "execution_count": 63,
   "id": "c9ebcb7a",
   "metadata": {},
   "outputs": [
    {
     "name": "stdout",
     "output_type": "stream",
     "text": [
      "adaabc aababbc\n"
     ]
    }
   ],
   "source": [
    "a , b = input().split()\n",
    "\n",
    "differ = 0\n",
    "if len(b) == len(a):\n",
    "    for i in range(len(a)):\n",
    "        if a[i] != b[i]:\n",
    "            differ += 1\n",
    "    print(differ)\n",
    "else:\n",
    "    dist = len(b) - len(a)\n",
    "    c = []\n",
    "    diff_list = []\n",
    "    for i in range(dist+1):\n",
    "        mun = b[:i]+a+b[-(dist-i):] \n",
    "        c.append(mun[:len(b)])\n",
    "    for d in c:\n",
    "        diff = 0\n",
    "        for j in range(len(d)):\n",
    "            if d[j] != b[j]:\n",
    "                diff += 1 \n",
    "        diff_list.append(diff)\n",
    "    print(min(diff_list))"
   ]
  },
  {
   "cell_type": "markdown",
   "id": "4ba075ef",
   "metadata": {},
   "source": [
    "- 더 쉽게 하는 문제 풀이"
   ]
  },
  {
   "cell_type": "code",
   "execution_count": 72,
   "id": "f8116388",
   "metadata": {},
   "outputs": [
    {
     "name": "stdout",
     "output_type": "stream",
     "text": [
      "2\n"
     ]
    }
   ],
   "source": [
    "result = []\n",
    "for i in range(len(b) - len(a) + 1):\n",
    "    count = 0\n",
    "    for j in range(len(a)):\n",
    "        if a[j] != b[i + j]:\n",
    "            count += 1\n",
    "    result.append(count)\n",
    "print(min(result))"
   ]
  }
 ],
 "metadata": {
  "kernelspec": {
   "display_name": "Python 3 (ipykernel)",
   "language": "python",
   "name": "python3"
  },
  "language_info": {
   "codemirror_mode": {
    "name": "ipython",
    "version": 3
   },
   "file_extension": ".py",
   "mimetype": "text/x-python",
   "name": "python",
   "nbconvert_exporter": "python",
   "pygments_lexer": "ipython3",
   "version": "3.9.6"
  }
 },
 "nbformat": 4,
 "nbformat_minor": 5
}
