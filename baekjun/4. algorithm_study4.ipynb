{
 "cells": [
  {
   "cell_type": "markdown",
   "id": "34552e66",
   "metadata": {},
   "source": [
    "## 1. 촌수계산(2644)"
   ]
  },
  {
   "cell_type": "markdown",
   "id": "83978776",
   "metadata": {},
   "source": [
    "우리 나라는 가족 혹은 친척들 사이의 관계를 촌수라는 단위로 표현하는 독특한 문화를 가지고 있다. 이러한 촌수는 다음과 같은 방식으로 계산된다. 기본적으로 부모와 자식 사이를 1촌으로 정의하고 이로부터 사람들 간의 촌수를 계산한다. 예를 들면 나와 아버지, 아버지와 할아버지는 각각 1촌으로 나와 할아버지는 2촌이 되고, 아버지 형제들과 할아버지는 1촌, 나와 아버지 형제들과는 3촌이 된다.\n",
    "\n",
    "여러 사람들에 대한 부모 자식들 간의 관계가 주어졌을 때, 주어진 두 사람의 촌수를 계산하는 프로그램을 작성하시오."
   ]
  },
  {
   "cell_type": "code",
   "execution_count": 1,
   "id": "426b1eab",
   "metadata": {},
   "outputs": [
    {
     "name": "stdout",
     "output_type": "stream",
     "text": [
      "9\n",
      "7 3\n",
      "7 \n",
      "1 2\n",
      "1 3\n",
      "2 7\n",
      "2 8\n",
      "2 9\n",
      "4 5\n",
      "4 6\n"
     ]
    }
   ],
   "source": [
    "from collections import deque\n",
    "\n",
    "n = int(input())\n",
    "i, j = map(int, input().split())\n",
    "m = int(input())\n",
    "graph = [ [] for _ in range(n+1)]\n",
    "for _ in range(m):\n",
    "    u, v = map(int, input().split())\n",
    "    graph[u].append(v)\n",
    "    graph[v].append(u)"
   ]
  },
  {
   "cell_type": "code",
   "execution_count": 2,
   "id": "ec2c4dae",
   "metadata": {},
   "outputs": [
    {
     "data": {
      "text/plain": [
       "[[], [2, 3], [1, 7, 8, 9], [1], [5, 6], [4], [4], [2], [2], [2]]"
      ]
     },
     "execution_count": 2,
     "metadata": {},
     "output_type": "execute_result"
    }
   ],
   "source": [
    "graph"
   ]
  },
  {
   "cell_type": "code",
   "execution_count": 6,
   "id": "2f15c63d",
   "metadata": {},
   "outputs": [],
   "source": [
    "check = [0]*(n+1)\n",
    "\n",
    "def bfs(start):\n",
    "    queue = deque([start])\n",
    "    \n",
    "    while queue:\n",
    "        v = queue.popleft()\n",
    "        for i in graph[v]:\n",
    "            if check[i] == 0:\n",
    "                check[i] = check[v] +1 \n",
    "                queue.append(i)"
   ]
  },
  {
   "cell_type": "code",
   "execution_count": 7,
   "id": "53f5960c",
   "metadata": {},
   "outputs": [],
   "source": [
    "bfs(i)"
   ]
  },
  {
   "cell_type": "code",
   "execution_count": 8,
   "id": "fd46d6cf",
   "metadata": {},
   "outputs": [
    {
     "name": "stdout",
     "output_type": "stream",
     "text": [
      "3\n"
     ]
    }
   ],
   "source": [
    "print(check[j] if check[j]>0 else -1)"
   ]
  },
  {
   "cell_type": "markdown",
   "id": "cf956720",
   "metadata": {},
   "source": [
    "## 2. 인하은행"
   ]
  },
  {
   "cell_type": "markdown",
   "id": "c6c072d6",
   "metadata": {},
   "source": [
    "인하은행에는 ATM이 $1$대밖에 없다. 지금 이 ATM앞에 $N$명의 사람들이 줄을 서있다. 사람은 $1$번부터 $N$번까지 번호가 매겨져 있으며, $i$번 사람이 돈을 인출하는데 걸리는 시간은 $P_i$분이다.\n",
    "\n",
    "사람들이 줄을 서는 순서에 따라서, 돈을 인출하는데 필요한 시간의 합이 달라지게 된다. 예를 들어, 총 $5$명이 있고, $P_1 = 3, P_2 = 1, P_3 = 4, P_4 = 3, P_5 = 2$ 인 경우를 생각해보자. $[1, 2, 3, 4, 5]$ 순서로 줄을 선다면, $1$번 사람은 $3$분만에 돈을 뽑을 수 있다. $2$번 사람은 $1$번 사람이 돈을 뽑을 때 까지 기다려야 하기 때문에, $3+1 = 4$분이 걸리게 된다. $3$번 사람은 $1$번, $2$번 사람이 돈을 뽑을 때까지 기다려야 하기 때문에, 총 $3+1+4 = 8$분이 필요하게 된다. $4$번 사람은 $3+1+4+3 = 11$분, 5번 사람은 $3+1+4+3+2 = 13$분이 걸리게 된다. 이 경우에 각 사람이 돈을 인출하는데 필요한 시간의 합은 $3+4+8+11+13 = 39$분이 된다.\n",
    "\n",
    "줄을 $[2, 5, 1, 4, 3]$ 순서로 줄을 서면, 2번 사람은 1분만에, 5번 사람은 $1+2 = 3$분, $1$번 사람은 $1+2+3 = 6$분, $4$번 사람은 $1+2+3+3 = 9$분, $3$번 사람은 $1+2+3+3+4 = 13$분이 걸리게 된다. 각 사람이 돈을 인출하는데 필요한 시간의 합은 $1+3+6+9+13 = 32$분이다. 이 방법보다 더 필요한 시간의 합을 최소로 만들 수는 없다.\n",
    "\n",
    "줄을 서 있는 사람의 수 $N$과 각 사람이 돈을 인출하는데 걸리는 시간 $P_i$가 주어졌을 때, 각 사람이 돈을 인출하는데 필요한 시간의 합의 최솟값을 구하는 프로그램을 작성하시오."
   ]
  },
  {
   "cell_type": "code",
   "execution_count": 10,
   "id": "9a641d72",
   "metadata": {},
   "outputs": [
    {
     "name": "stdout",
     "output_type": "stream",
     "text": [
      "5\n",
      "3 1 4 3 2\n"
     ]
    }
   ],
   "source": [
    "n = int(input())\n",
    "k = list(map(int,input().split()))"
   ]
  },
  {
   "cell_type": "code",
   "execution_count": 12,
   "id": "e7978e32",
   "metadata": {},
   "outputs": [
    {
     "name": "stdout",
     "output_type": "stream",
     "text": [
      "32\n"
     ]
    }
   ],
   "source": [
    "from itertools import accumulate\n",
    "a = sorted(k)\n",
    "b = list(accumulate(a))\n",
    "print(sum(b))"
   ]
  }
 ],
 "metadata": {
  "kernelspec": {
   "display_name": "Python 3 (ipykernel)",
   "language": "python",
   "name": "python3"
  },
  "language_info": {
   "codemirror_mode": {
    "name": "ipython",
    "version": 3
   },
   "file_extension": ".py",
   "mimetype": "text/x-python",
   "name": "python",
   "nbconvert_exporter": "python",
   "pygments_lexer": "ipython3",
   "version": "3.9.6"
  }
 },
 "nbformat": 4,
 "nbformat_minor": 5
}
