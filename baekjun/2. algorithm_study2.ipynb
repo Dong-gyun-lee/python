{
 "cells": [
  {
   "cell_type": "markdown",
   "id": "317e1528",
   "metadata": {},
   "source": [
    "## 1. 바이러스(2606)"
   ]
  },
  {
   "cell_type": "markdown",
   "id": "630896f9",
   "metadata": {},
   "source": [
    "신종 바이러스인 웜 바이러스는 네트워크를 통해 전파된다. 한 컴퓨터가 웜 바이러스에 걸리면 그 컴퓨터와 네트워크 상에서 연결되어 있는 모든 컴퓨터는 웜 바이러스에 걸리게 된다.\n",
    "\n",
    "어느 날 $1$번 컴퓨터가 웜 바이러스에 걸렸다. 컴퓨터의 수와 네트워크 상에서 서로 연결되어 있는 정보가 주어질 때, $1$번 컴퓨터를 통해 웜 바이러스에 걸리게 되는 컴퓨터의 수를 출력하는 프로그램을 작성하시오."
   ]
  },
  {
   "cell_type": "code",
   "execution_count": 2,
   "id": "ce5752a7",
   "metadata": {},
   "outputs": [
    {
     "name": "stdout",
     "output_type": "stream",
     "text": [
      "7\n",
      "6\n",
      "1 2\n",
      "2 3\n",
      "1 5\n",
      "5 2\n",
      "5 6\n",
      "4 7\n"
     ]
    }
   ],
   "source": [
    "n = int(input())\n",
    "k = int(input())\n",
    "adjacency = []\n",
    "for _ in range(k):\n",
    "    adjacency.append(list(map(int,input().split())))"
   ]
  },
  {
   "cell_type": "code",
   "execution_count": 11,
   "id": "cc53ce30",
   "metadata": {},
   "outputs": [
    {
     "data": {
      "text/plain": [
       "[[1, 2], [2, 3], [1, 5], [5, 2], [5, 6], [4, 7]]"
      ]
     },
     "execution_count": 11,
     "metadata": {},
     "output_type": "execute_result"
    }
   ],
   "source": [
    "adjacency"
   ]
  },
  {
   "cell_type": "code",
   "execution_count": 12,
   "id": "0c415d6d",
   "metadata": {},
   "outputs": [],
   "source": [
    "graph = [[] for _ in range(n+1)]\n",
    "for i in adjacency:\n",
    "    graph[i[0]].append(i[1])\n",
    "    graph[i[1]].append(i[0])"
   ]
  },
  {
   "cell_type": "code",
   "execution_count": 13,
   "id": "870a6d77",
   "metadata": {},
   "outputs": [
    {
     "data": {
      "text/plain": [
       "[[], [2, 5], [1, 3, 5], [2], [7], [1, 2, 6], [5], [4]]"
      ]
     },
     "execution_count": 13,
     "metadata": {},
     "output_type": "execute_result"
    }
   ],
   "source": [
    "graph"
   ]
  },
  {
   "cell_type": "code",
   "execution_count": 19,
   "id": "a86c4327",
   "metadata": {},
   "outputs": [],
   "source": [
    "def dfs(graph,v,visited):\n",
    "    global count\n",
    "    visited[v] = True\n",
    "    count += 1\n",
    "    print(v, end=' ')\n",
    "    for i in graph[v]:\n",
    "        if not visited[i]:\n",
    "            dfs(graph,i,visited)\n",
    "    return count-1"
   ]
  },
  {
   "cell_type": "code",
   "execution_count": 20,
   "id": "eb9c1735",
   "metadata": {},
   "outputs": [],
   "source": [
    "visited = [False]*(n+1)"
   ]
  },
  {
   "cell_type": "code",
   "execution_count": 21,
   "id": "ab4bbfbb",
   "metadata": {},
   "outputs": [
    {
     "name": "stdout",
     "output_type": "stream",
     "text": [
      "1 2 3 5 6 "
     ]
    },
    {
     "data": {
      "text/plain": [
       "4"
      ]
     },
     "execution_count": 21,
     "metadata": {},
     "output_type": "execute_result"
    }
   ],
   "source": [
    "count=0\n",
    "dfs(graph,1,visited)"
   ]
  },
  {
   "cell_type": "markdown",
   "id": "a7648ae4",
   "metadata": {},
   "source": [
    "## 2. 지름길 "
   ]
  },
  {
   "cell_type": "markdown",
   "id": "5aa0f836",
   "metadata": {},
   "source": [
    "매일 아침, 세준이는 학교에 가기 위해서 차를 타고 $D$ 킬로미터 길이의 고속도로를 지난다. 이 고속도로는 심각하게 커브가 많아서 정말 운전하기도 힘들다. 어느 날, 세준이는 이 고속도로에 지름길이 존재한다는 것을 알게 되었다. 모든 지름길은 일방통행이고, 고속도로를 역주행할 수는 없다.\n",
    "\n",
    "세준이가 운전해야 하는 거리의 최솟값을 출력하시오."
   ]
  },
  {
   "cell_type": "code",
   "execution_count": 2,
   "id": "7566337b",
   "metadata": {},
   "outputs": [
    {
     "name": "stdout",
     "output_type": "stream",
     "text": [
      "5 150\n"
     ]
    }
   ],
   "source": [
    "n,d  = map(int,input().split())"
   ]
  },
  {
   "cell_type": "code",
   "execution_count": 3,
   "id": "257874d7",
   "metadata": {},
   "outputs": [
    {
     "name": "stdout",
     "output_type": "stream",
     "text": [
      "0 50 10\n",
      "0 50 20\n",
      "50 100 10\n",
      "100 151 10\n",
      "110 140 90\n"
     ]
    }
   ],
   "source": [
    "graph = [[] for _ in range(d+1)]\n",
    "for _ in range(n):\n",
    "    a,b,c = map(int,input().split())\n",
    "    graph[a].append((b,c))"
   ]
  },
  {
   "cell_type": "code",
   "execution_count": 28,
   "id": "4ea28dae",
   "metadata": {
    "scrolled": true
   },
   "outputs": [
    {
     "name": "stdout",
     "output_type": "stream",
     "text": [
      "70\n"
     ]
    }
   ],
   "source": [
    "dists = [i for i in range(d+1)]\n",
    "for i in range(d+1):\n",
    "    if i>0:\n",
    "        dists[i] = min(dists[i], dists[i-1] + 1) #dist 갱신\n",
    "    if graph[i] != []: # 지름길 존재 유무\n",
    "        for j, k in graph[i]:\n",
    "            if j <= d and dists[j] > dists[i] + k: #현재 계산된 거리보다 작을 경우\n",
    "                dists[j] = dists[i] + k # 뒤에 도착한 거리 재조정\n",
    "print(dists[d])"
   ]
  },
  {
   "cell_type": "markdown",
   "id": "f97c262c",
   "metadata": {},
   "source": [
    "- default dict 이용"
   ]
  },
  {
   "cell_type": "code",
   "execution_count": 18,
   "id": "6521e538",
   "metadata": {},
   "outputs": [
    {
     "data": {
      "text/plain": [
       "defaultdict(list, {})"
      ]
     },
     "execution_count": 18,
     "metadata": {},
     "output_type": "execute_result"
    }
   ],
   "source": [
    "from collections import defaultdict\n",
    "\n",
    "graph2 = defaultdict(list)\n",
    "graph2"
   ]
  },
  {
   "cell_type": "code",
   "execution_count": 19,
   "id": "0a439304",
   "metadata": {},
   "outputs": [
    {
     "name": "stdout",
     "output_type": "stream",
     "text": [
      "0 50 10\n",
      "0 50 20\n",
      "50 100 10\n",
      "100 151 10\n",
      "110 140 90\n"
     ]
    }
   ],
   "source": [
    "for _ in range(n):\n",
    "    a,b,c = map(int,input().split())\n",
    "    graph2[a].append((b,c))"
   ]
  },
  {
   "cell_type": "code",
   "execution_count": 20,
   "id": "dd22b26d",
   "metadata": {},
   "outputs": [
    {
     "data": {
      "text/plain": [
       "defaultdict(list,\n",
       "            {0: [(50, 10), (50, 20)],\n",
       "             50: [(100, 10)],\n",
       "             100: [(151, 10)],\n",
       "             110: [(140, 90)]})"
      ]
     },
     "execution_count": 20,
     "metadata": {},
     "output_type": "execute_result"
    }
   ],
   "source": [
    "graph2"
   ]
  },
  {
   "cell_type": "code",
   "execution_count": 22,
   "id": "ebcc0669",
   "metadata": {},
   "outputs": [
    {
     "data": {
      "text/plain": [
       "[0, 50, 100, 110]"
      ]
     },
     "execution_count": 22,
     "metadata": {},
     "output_type": "execute_result"
    }
   ],
   "source": [
    "list(graph2)"
   ]
  },
  {
   "cell_type": "code",
   "execution_count": 29,
   "id": "a6d627c4",
   "metadata": {},
   "outputs": [
    {
     "name": "stdout",
     "output_type": "stream",
     "text": [
      "70\n"
     ]
    }
   ],
   "source": [
    "dists = [i for i in range(d+1)]\n",
    "for i in range(d+1):\n",
    "    if i>0:\n",
    "        dists[i] = min(dists[i], dists[i-1] + 1)\n",
    "    if i in list(graph2):\n",
    "        for j, k in graph2[i]:\n",
    "            if j <= d and dists[j] > dists[i] + k:\n",
    "                dists[j] = dists[i] + k\n",
    "print(dists[d])"
   ]
  },
  {
   "cell_type": "markdown",
   "id": "6cf29f53",
   "metadata": {},
   "source": [
    "## 3. 숫자 카드(10815)"
   ]
  },
  {
   "cell_type": "markdown",
   "id": "bb43ed16",
   "metadata": {},
   "source": [
    "숫자 카드는 정수 하나가 적혀져 있는 카드이다. 상근이는 숫자 카드 $N$개를 가지고 있다. 정수 $M$개가 주어졌을 때, 이 수가 적혀있는 숫자 카드를 상근이가 가지고 있는지 아닌지를 구하는 프로그램을 작성하시오."
   ]
  },
  {
   "cell_type": "code",
   "execution_count": 30,
   "id": "9807693e",
   "metadata": {},
   "outputs": [
    {
     "name": "stdout",
     "output_type": "stream",
     "text": [
      "5\n",
      "6 3 2 10 -10\n",
      "8\n",
      "10 9 -5 2 3 4 5 -10\n"
     ]
    }
   ],
   "source": [
    "n = int(input())\n",
    "cards = list(map(int,input().split()))\n",
    "m = int(input())\n",
    "sang = list(map(int,input().split()))"
   ]
  },
  {
   "cell_type": "code",
   "execution_count": 33,
   "id": "08b5daf4",
   "metadata": {},
   "outputs": [
    {
     "name": "stdout",
     "output_type": "stream",
     "text": [
      "[1, 0, 0, 1, 1, 0, 0, 1]\n"
     ]
    }
   ],
   "source": [
    "results=[]\n",
    "for i in sang:\n",
    "    if i in cards:\n",
    "        results.append(1)\n",
    "    else:\n",
    "        results.append(0)\n",
    "print(results)"
   ]
  },
  {
   "cell_type": "markdown",
   "id": "2cbbbd6f",
   "metadata": {},
   "source": [
    "위의 순차적인 탐색 알고리즘으로 하면 시간 초과가 나옴. 따라서 이진 탐색을 통해 알고리즘 구현"
   ]
  },
  {
   "cell_type": "code",
   "execution_count": 61,
   "id": "d2323d08",
   "metadata": {},
   "outputs": [],
   "source": [
    "def binary(array,target,start,end):\n",
    "    while start <= end:\n",
    "        mid = (start + end)//2\n",
    "        if array[mid] == target:\n",
    "            return mid\n",
    "        elif array[mid] > target:\n",
    "            end = mid -1\n",
    "        else:\n",
    "            start = mid +1\n",
    "    return None"
   ]
  },
  {
   "cell_type": "code",
   "execution_count": 62,
   "id": "b7f712ae",
   "metadata": {},
   "outputs": [
    {
     "data": {
      "text/plain": [
       "[-10, 2, 3, 6, 10]"
      ]
     },
     "execution_count": 62,
     "metadata": {},
     "output_type": "execute_result"
    }
   ],
   "source": [
    "cards_sorted = sorted(cards)\n",
    "cards_sorted"
   ]
  },
  {
   "cell_type": "code",
   "execution_count": 68,
   "id": "7b040594",
   "metadata": {},
   "outputs": [
    {
     "name": "stdout",
     "output_type": "stream",
     "text": [
      "1 0 0 1 1 0 0 1 "
     ]
    }
   ],
   "source": [
    "for check in sang:\n",
    "    if binary(cards_sorted,check,0,n-1)is not None:\n",
    "        print(1, end=' ')\n",
    "    else:\n",
    "        print(0, end=' ')"
   ]
  },
  {
   "cell_type": "markdown",
   "id": "8279213e",
   "metadata": {},
   "source": [
    "## 4. 영역구하기(2583)"
   ]
  },
  {
   "cell_type": "markdown",
   "id": "be4bbc22",
   "metadata": {},
   "source": [
    "눈금의 간격이 1인 $M×N(M,N≤100)$크기의 모눈종이가 있다. 이 모눈종이 위에 눈금에 맞추어 $K$개의 직사각형을 그릴 때, 이들 $K$개의 직사각형의 내부를 제외한 나머지 부분이 몇 개의 분리된 영역으로 나누어진다.\n",
    "\n",
    "예를 들어 $M=5$, $N=7$ 인 모눈종이 위에 <그림 1>과 같이 직사각형 3개를 그렸다면, 그 나머지 영역은 <그림 2>와 같이 3개의 분리된 영역으로 나누어지게 된다."
   ]
  },
  {
   "cell_type": "code",
   "execution_count": 52,
   "id": "6a80b78c",
   "metadata": {},
   "outputs": [
    {
     "name": "stdout",
     "output_type": "stream",
     "text": [
      "5 7 3\n",
      "0 2 4 4\n",
      "1 1 2 5\n",
      "4 0 6 2\n"
     ]
    }
   ],
   "source": [
    "from collections import deque\n",
    "m,n,k = map(int,input().split())\n",
    "graph = [[0]*n for _ in range(m)]\n",
    "\n",
    "for i in range(k):\n",
    "    x1, y1, x2, y2 = map(int,input().split())\n",
    "    for j in range(x1,x2):\n",
    "        for p in range(y1,y2):\n",
    "            graph[p][j] = 1\n",
    "            "
   ]
  },
  {
   "cell_type": "code",
   "execution_count": 53,
   "id": "b588bd8e",
   "metadata": {},
   "outputs": [
    {
     "data": {
      "text/plain": [
       "[[0, 0, 0, 0, 1, 1, 0],\n",
       " [0, 1, 0, 0, 1, 1, 0],\n",
       " [1, 1, 1, 1, 0, 0, 0],\n",
       " [1, 1, 1, 1, 0, 0, 0],\n",
       " [0, 1, 0, 0, 0, 0, 0]]"
      ]
     },
     "execution_count": 53,
     "metadata": {},
     "output_type": "execute_result"
    }
   ],
   "source": [
    "# 칠해진 영역은 1로 칠해줌 왼쪽 상단이 (0,0)\n",
    "graph"
   ]
  },
  {
   "cell_type": "code",
   "execution_count": 54,
   "id": "0f53e01c",
   "metadata": {},
   "outputs": [],
   "source": [
    "def bfs(x,y):\n",
    "    queue = deque()\n",
    "    queue.append((x,y))\n",
    "    \n",
    "    dx = [0, 0, -1, 1]\n",
    "    dy = [1, -1, 0, 0]\n",
    "    \n",
    "    cnt = 1\n",
    "    \n",
    "    while queue:\n",
    "        x,y = queue.popleft()\n",
    "        \n",
    "        for i in range(4):\n",
    "            nx = x + dx[i]\n",
    "            ny = y + dy[i]\n",
    "            \n",
    "            if nx< 0 or ny< 0 or nx>=m or ny>=n:\n",
    "                continue\n",
    "                \n",
    "            if graph[nx][ny] == 1:\n",
    "                continue\n",
    "                \n",
    "            if graph[nx][ny] == 0:\n",
    "                graph[nx][ny] = 1\n",
    "                queue.append((nx,ny))\n",
    "                cnt += 1 \n",
    "                \n",
    "    return cnt"
   ]
  },
  {
   "cell_type": "code",
   "execution_count": null,
   "id": "85f146ca",
   "metadata": {},
   "outputs": [],
   "source": [
    "result = []\n",
    "for i in range(m):\n",
    "    for j in range(n):\n",
    "        if graph[i][j] == 0:\n",
    "            graph[i][j] = 1\n",
    "            result.append(bfs(i,j))"
   ]
  },
  {
   "cell_type": "code",
   "execution_count": 57,
   "id": "3579920a",
   "metadata": {},
   "outputs": [
    {
     "name": "stdout",
     "output_type": "stream",
     "text": [
      "3\n"
     ]
    }
   ],
   "source": [
    "print(len(result))"
   ]
  },
  {
   "cell_type": "code",
   "execution_count": 56,
   "id": "6281e42d",
   "metadata": {},
   "outputs": [
    {
     "name": "stdout",
     "output_type": "stream",
     "text": [
      "1 7 13 "
     ]
    }
   ],
   "source": [
    "for i in sorted(result):\n",
    "    print(i, end= ' ')"
   ]
  }
 ],
 "metadata": {
  "kernelspec": {
   "display_name": "Python 3 (ipykernel)",
   "language": "python",
   "name": "python3"
  },
  "language_info": {
   "codemirror_mode": {
    "name": "ipython",
    "version": 3
   },
   "file_extension": ".py",
   "mimetype": "text/x-python",
   "name": "python",
   "nbconvert_exporter": "python",
   "pygments_lexer": "ipython3",
   "version": "3.9.6"
  }
 },
 "nbformat": 4,
 "nbformat_minor": 5
}
