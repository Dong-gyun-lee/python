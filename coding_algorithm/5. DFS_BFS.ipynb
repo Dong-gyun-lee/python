{
 "cells": [
  {
   "cell_type": "code",
   "execution_count": 1,
   "id": "1fa6ca15",
   "metadata": {},
   "outputs": [],
   "source": [
    "import time"
   ]
  },
  {
   "cell_type": "markdown",
   "id": "205a5970",
   "metadata": {},
   "source": [
    "### 스택 : 선입후출 구조"
   ]
  },
  {
   "cell_type": "code",
   "execution_count": 2,
   "id": "297b5b20",
   "metadata": {},
   "outputs": [
    {
     "data": {
      "text/plain": [
       "6"
      ]
     },
     "execution_count": 2,
     "metadata": {},
     "output_type": "execute_result"
    }
   ],
   "source": [
    "stack = []\n",
    "stack.append(1)\n",
    "stack.append(2)\n",
    "stack.append(3)\n",
    "stack.append(4)\n",
    "stack.pop()\n",
    "stack.append(5)\n",
    "stack.append(6)\n",
    "stack.pop()"
   ]
  },
  {
   "cell_type": "code",
   "execution_count": 3,
   "id": "18a63e0d",
   "metadata": {},
   "outputs": [
    {
     "name": "stdout",
     "output_type": "stream",
     "text": [
      "[1, 2, 3, 5]\n"
     ]
    }
   ],
   "source": [
    "print(stack)"
   ]
  },
  {
   "cell_type": "code",
   "execution_count": 4,
   "id": "def275fd",
   "metadata": {},
   "outputs": [
    {
     "name": "stdout",
     "output_type": "stream",
     "text": [
      "[5, 3, 2, 1]\n"
     ]
    }
   ],
   "source": [
    "print(stack[::-1])"
   ]
  },
  {
   "cell_type": "markdown",
   "id": "3567cf91",
   "metadata": {},
   "source": [
    "### 큐 : 선입선출 구조"
   ]
  },
  {
   "cell_type": "code",
   "execution_count": 6,
   "id": "16205725",
   "metadata": {},
   "outputs": [
    {
     "name": "stdout",
     "output_type": "stream",
     "text": [
      "deque([3, 4, 5, 6])\n"
     ]
    }
   ],
   "source": [
    "from collections import deque\n",
    "\n",
    "queue = deque()\n",
    "\n",
    "queue.append(1)\n",
    "queue.append(2)\n",
    "queue.append(3)\n",
    "queue.append(4)\n",
    "queue.popleft()\n",
    "queue.append(5)\n",
    "queue.append(6)\n",
    "queue.popleft()\n",
    "\n",
    "print(queue)"
   ]
  },
  {
   "cell_type": "code",
   "execution_count": 7,
   "id": "add33dea",
   "metadata": {},
   "outputs": [
    {
     "name": "stdout",
     "output_type": "stream",
     "text": [
      "deque([6, 5, 4, 3])\n"
     ]
    }
   ],
   "source": [
    "queue.reverse()\n",
    "print(queue)"
   ]
  },
  {
   "cell_type": "markdown",
   "id": "36f98908",
   "metadata": {},
   "source": [
    "### 재귀함수 : 자기 자신을 다시 호출하는 함수"
   ]
  },
  {
   "cell_type": "code",
   "execution_count": 8,
   "id": "4d750d59",
   "metadata": {},
   "outputs": [
    {
     "name": "stdout",
     "output_type": "stream",
     "text": [
      "1 번째 재귀함수에서 2 번째 재귀 함수를 호출합니다.\n",
      "2 번째 재귀함수에서 3 번째 재귀 함수를 호출합니다.\n",
      "3 번째 재귀함수에서 4 번째 재귀 함수를 호출합니다.\n",
      "4 번째 재귀함수에서 5 번째 재귀 함수를 호출합니다.\n",
      "5 번째 재귀함수에서 6 번째 재귀 함수를 호출합니다.\n",
      "6 번째 재귀함수에서 7 번째 재귀 함수를 호출합니다.\n",
      "7 번째 재귀함수에서 8 번째 재귀 함수를 호출합니다.\n",
      "8 번째 재귀함수에서 9 번째 재귀 함수를 호출합니다.\n",
      "9 번째 재귀함수에서 10 번째 재귀 함수를 호출합니다.\n",
      "9 번째 재귀 함수를 종료합니다.\n",
      "8 번째 재귀 함수를 종료합니다.\n",
      "7 번째 재귀 함수를 종료합니다.\n",
      "6 번째 재귀 함수를 종료합니다.\n",
      "5 번째 재귀 함수를 종료합니다.\n",
      "4 번째 재귀 함수를 종료합니다.\n",
      "3 번째 재귀 함수를 종료합니다.\n",
      "2 번째 재귀 함수를 종료합니다.\n",
      "1 번째 재귀 함수를 종료합니다.\n"
     ]
    }
   ],
   "source": [
    "def recursive_function(i):\n",
    "    if i == 10:\n",
    "        return\n",
    "    print(i, '번째 재귀함수에서',i+1,'번째 재귀 함수를 호출합니다.')\n",
    "    recursive_function(i+1)\n",
    "    print(i,'번째 재귀 함수를 종료합니다.')\n",
    "\n",
    "recursive_function(1)"
   ]
  },
  {
   "cell_type": "code",
   "execution_count": 10,
   "id": "adf3dddc",
   "metadata": {},
   "outputs": [
    {
     "data": {
      "text/plain": [
       "120"
      ]
     },
     "execution_count": 10,
     "metadata": {},
     "output_type": "execute_result"
    }
   ],
   "source": [
    "def factorial_iterative(n):\n",
    "    result = 1\n",
    "    for i in range(1,n+1):\n",
    "        result *= i\n",
    "    return result\n",
    "\n",
    "factorial_iterative(5)"
   ]
  },
  {
   "cell_type": "code",
   "execution_count": 11,
   "id": "dfe866e2",
   "metadata": {},
   "outputs": [
    {
     "data": {
      "text/plain": [
       "120"
      ]
     },
     "execution_count": 11,
     "metadata": {},
     "output_type": "execute_result"
    }
   ],
   "source": [
    "def factorial_recursive(n):\n",
    "    if n <= 1:\n",
    "        return 1\n",
    "    return n*factorial(n-1)\n",
    "\n",
    "factorial_iterative(5)"
   ]
  },
  {
   "cell_type": "markdown",
   "id": "7c18585e",
   "metadata": {},
   "source": [
    "## 2. 탐색 알고리즘 DFS/BFS"
   ]
  },
  {
   "cell_type": "markdown",
   "id": "2a755a8b",
   "metadata": {},
   "source": [
    "#### 그래프 표현 방식"
   ]
  },
  {
   "cell_type": "markdown",
   "id": "7708ad3c",
   "metadata": {},
   "source": [
    "1) 인접 행렬"
   ]
  },
  {
   "cell_type": "code",
   "execution_count": 14,
   "id": "e6eef1c8",
   "metadata": {},
   "outputs": [
    {
     "name": "stdout",
     "output_type": "stream",
     "text": [
      "[[0, 7, 5], [7, 0, 99999999], [5, 99999999, 0]]\n"
     ]
    }
   ],
   "source": [
    "INF = 99999999 #연결안됨\n",
    "\n",
    "graph = [\n",
    "    [0,7,5],\n",
    "    [7,0,INF],\n",
    "    [5,INF,0]\n",
    "]\n",
    "print(graph)"
   ]
  },
  {
   "cell_type": "markdown",
   "id": "d91f2b89",
   "metadata": {},
   "source": [
    "2) 인접 리스트"
   ]
  },
  {
   "cell_type": "code",
   "execution_count": 17,
   "id": "6dcdf7e9",
   "metadata": {},
   "outputs": [
    {
     "name": "stdout",
     "output_type": "stream",
     "text": [
      "[[(1, 7), (2, 5)], [(0, 7)], [(0, 5)]]\n"
     ]
    }
   ],
   "source": [
    "graph = [[] for _ in range(3)]\n",
    "graph[0].append((1,7))\n",
    "graph[0].append((2,5))\n",
    "\n",
    "graph[1].append((0,7))\n",
    "\n",
    "graph[2].append((0,5))\n",
    "\n",
    "print(graph)"
   ]
  },
  {
   "cell_type": "markdown",
   "id": "3e0c0e90",
   "metadata": {},
   "source": [
    "### DFS : Depth-First Search (깊이 우선 탐색)"
   ]
  },
  {
   "cell_type": "code",
   "execution_count": 28,
   "id": "12ba5bb3",
   "metadata": {},
   "outputs": [],
   "source": [
    "def dfs(graph,v,visited):\n",
    "    visited[v-1] = True\n",
    "    print(v, end = ' ')\n",
    "    for i in graph[v-1]:\n",
    "        if not visited[i-1]:\n",
    "            dfs(graph, i ,visited)"
   ]
  },
  {
   "cell_type": "code",
   "execution_count": 29,
   "id": "fad35999",
   "metadata": {},
   "outputs": [],
   "source": [
    "graph = [\n",
    "    [2,3,8],\n",
    "    [1,7],\n",
    "    [1,4,5],\n",
    "    [3,5],\n",
    "    [3,4],\n",
    "    [7],\n",
    "    [2,6,8],\n",
    "    [1,7]\n",
    "]"
   ]
  },
  {
   "cell_type": "code",
   "execution_count": 30,
   "id": "5148583f",
   "metadata": {},
   "outputs": [],
   "source": [
    "visited = [False]*8"
   ]
  },
  {
   "cell_type": "code",
   "execution_count": 31,
   "id": "4a84f1b1",
   "metadata": {},
   "outputs": [
    {
     "name": "stdout",
     "output_type": "stream",
     "text": [
      "1 2 7 6 8 3 4 5 "
     ]
    }
   ],
   "source": [
    "dfs(graph,1,visited) #탐색순서"
   ]
  },
  {
   "cell_type": "markdown",
   "id": "402aef52",
   "metadata": {},
   "source": [
    "### BFS : Bread First Search (너비 우선 탐색)"
   ]
  },
  {
   "cell_type": "code",
   "execution_count": 36,
   "id": "ff887c08",
   "metadata": {},
   "outputs": [],
   "source": [
    "from collections import deque\n",
    "\n",
    "def bfs(graph,start,visited):\n",
    "    queue = deque([start])\n",
    "    visited[start-1] = True\n",
    "    while queue:\n",
    "        v = queue.popleft()\n",
    "        print(v, end = ' ')\n",
    "        for i in graph[v-1]:\n",
    "            if not visited[i-1]:\n",
    "                queue.append(i)\n",
    "                visited[i-1] = True"
   ]
  },
  {
   "cell_type": "code",
   "execution_count": 37,
   "id": "c95cedac",
   "metadata": {},
   "outputs": [],
   "source": [
    "graph = [\n",
    "    [2,3,8],\n",
    "    [1,7],\n",
    "    [1,4,5],\n",
    "    [3,5],\n",
    "    [3,4],\n",
    "    [7],\n",
    "    [2,6,8],\n",
    "    [1,7]\n",
    "]"
   ]
  },
  {
   "cell_type": "code",
   "execution_count": 38,
   "id": "9d6a9415",
   "metadata": {},
   "outputs": [],
   "source": [
    "visited = [False]*8"
   ]
  },
  {
   "cell_type": "code",
   "execution_count": 39,
   "id": "c84f868d",
   "metadata": {},
   "outputs": [
    {
     "name": "stdout",
     "output_type": "stream",
     "text": [
      "1 2 3 8 7 4 5 6 "
     ]
    }
   ],
   "source": [
    "bfs(graph,1,visited)"
   ]
  },
  {
   "cell_type": "markdown",
   "id": "3510fbee",
   "metadata": {},
   "source": [
    "## 3. 음료수 얼려먹기"
   ]
  },
  {
   "cell_type": "code",
   "execution_count": 41,
   "id": "a0700f22",
   "metadata": {},
   "outputs": [
    {
     "name": "stdout",
     "output_type": "stream",
     "text": [
      "5 5\n"
     ]
    }
   ],
   "source": [
    "n , m = map(int,input().split())"
   ]
  },
  {
   "cell_type": "code",
   "execution_count": 47,
   "id": "50e2bd68",
   "metadata": {},
   "outputs": [
    {
     "data": {
      "text/plain": [
       "[1, 1, 1, 1, 1]"
      ]
     },
     "execution_count": 47,
     "metadata": {},
     "output_type": "execute_result"
    }
   ],
   "source": [
    "list(map(int,'11111'))"
   ]
  },
  {
   "cell_type": "code",
   "execution_count": 69,
   "id": "5915b09e",
   "metadata": {},
   "outputs": [
    {
     "name": "stdout",
     "output_type": "stream",
     "text": [
      "01111\n",
      "11110\n",
      "10000\n",
      "01111\n",
      "01110\n"
     ]
    }
   ],
   "source": [
    "graph = []\n",
    "for i in range(n):\n",
    "    graph.append(list(map(int,input())))"
   ]
  },
  {
   "cell_type": "code",
   "execution_count": 70,
   "id": "90b6d333",
   "metadata": {},
   "outputs": [
    {
     "data": {
      "text/plain": [
       "[[0, 1, 1, 1, 1],\n",
       " [1, 1, 1, 1, 0],\n",
       " [1, 0, 0, 0, 0],\n",
       " [0, 1, 1, 1, 1],\n",
       " [0, 1, 1, 1, 0]]"
      ]
     },
     "execution_count": 70,
     "metadata": {},
     "output_type": "execute_result"
    }
   ],
   "source": [
    "graph"
   ]
  },
  {
   "cell_type": "code",
   "execution_count": 71,
   "id": "4aed5087",
   "metadata": {},
   "outputs": [],
   "source": [
    "def dfs(x,y):\n",
    "    if x <= -1 or x >= n or y<=-1 or y>=m:\n",
    "        return False\n",
    "    if graph[x][y] == 0:\n",
    "        graph[x][y] = 1\n",
    "        dfs(x-1,y)\n",
    "        dfs(x,y-1)\n",
    "        dfs(x+1,y)\n",
    "        dfs(x,y+1)\n",
    "        return True\n",
    "    return False"
   ]
  },
  {
   "cell_type": "code",
   "execution_count": 72,
   "id": "ea940807",
   "metadata": {},
   "outputs": [
    {
     "name": "stdout",
     "output_type": "stream",
     "text": [
      "4\n"
     ]
    }
   ],
   "source": [
    "result = 0\n",
    "for i in range(n):\n",
    "    for j in range(m):\n",
    "        if dfs(i,j) == True:\n",
    "            result += 1\n",
    "print(result)"
   ]
  },
  {
   "cell_type": "code",
   "execution_count": 73,
   "id": "bb362fcc",
   "metadata": {},
   "outputs": [
    {
     "data": {
      "text/plain": [
       "[[1, 1, 1, 1, 1],\n",
       " [1, 1, 1, 1, 1],\n",
       " [1, 1, 1, 1, 1],\n",
       " [1, 1, 1, 1, 1],\n",
       " [1, 1, 1, 1, 1]]"
      ]
     },
     "execution_count": 73,
     "metadata": {},
     "output_type": "execute_result"
    }
   ],
   "source": [
    "graph # 끝나면 다 밟아야 됨"
   ]
  },
  {
   "cell_type": "markdown",
   "id": "abc00ebe",
   "metadata": {},
   "source": [
    "## 4. 미로 탈출"
   ]
  },
  {
   "cell_type": "code",
   "execution_count": 75,
   "id": "aa8350fb",
   "metadata": {},
   "outputs": [
    {
     "name": "stdout",
     "output_type": "stream",
     "text": [
      "5 5\n",
      "10101\n",
      "11111\n",
      "00001\n",
      "11111\n",
      "11111\n"
     ]
    }
   ],
   "source": [
    "n , m = map(int,input().split())\n",
    "info = []\n",
    "for i in range(n):\n",
    "    info.append(list(map(int,input())))"
   ]
  },
  {
   "cell_type": "code",
   "execution_count": 76,
   "id": "a29ab2cd",
   "metadata": {},
   "outputs": [],
   "source": [
    "dx = [-1,1,0,0]\n",
    "dy = [0,0,-1,1]"
   ]
  },
  {
   "cell_type": "code",
   "execution_count": 79,
   "id": "f9e53917",
   "metadata": {},
   "outputs": [
    {
     "name": "stdout",
     "output_type": "stream",
     "text": [
      "9\n"
     ]
    }
   ],
   "source": [
    "def bfs(x,y):\n",
    "    queue = deque()\n",
    "    queue.append((x,y))\n",
    "    while queue:\n",
    "        x, y = queue.popleft()\n",
    "        for i in range(4):\n",
    "            nx = x+dx[i]\n",
    "            ny = y+dy[i]\n",
    "            \n",
    "            if nx<0 or ny<0 or nx>= n or ny>= m:\n",
    "                continue\n",
    "            if info[nx][ny] == 0:\n",
    "                continue\n",
    "            if info[nx][ny] == 1:\n",
    "                info[nx][ny] = info[x][y] + 1\n",
    "                queue.append((nx,ny))\n",
    "    return info[n-1][m-1]\n",
    "\n",
    "print(bfs(0,0))"
   ]
  },
  {
   "cell_type": "code",
   "execution_count": 80,
   "id": "7833ade3",
   "metadata": {},
   "outputs": [
    {
     "data": {
      "text/plain": [
       "[[3, 0, 5, 0, 7],\n",
       " [2, 3, 4, 5, 6],\n",
       " [0, 0, 0, 0, 7],\n",
       " [12, 11, 10, 9, 8],\n",
       " [13, 12, 11, 10, 9]]"
      ]
     },
     "execution_count": 80,
     "metadata": {},
     "output_type": "execute_result"
    }
   ],
   "source": [
    "info"
   ]
  }
 ],
 "metadata": {
  "kernelspec": {
   "display_name": "Python 3 (ipykernel)",
   "language": "python",
   "name": "python3"
  },
  "language_info": {
   "codemirror_mode": {
    "name": "ipython",
    "version": 3
   },
   "file_extension": ".py",
   "mimetype": "text/x-python",
   "name": "python",
   "nbconvert_exporter": "python",
   "pygments_lexer": "ipython3",
   "version": "3.9.6"
  }
 },
 "nbformat": 4,
 "nbformat_minor": 5
}
