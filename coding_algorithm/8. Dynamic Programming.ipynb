{
 "cells": [
  {
   "cell_type": "markdown",
   "id": "931be971",
   "metadata": {},
   "source": [
    "# 다이나믹 프로그래밍"
   ]
  },
  {
   "cell_type": "markdown",
   "id": "f03dfad2",
   "metadata": {},
   "source": [
    "다이나믹 프로그래밍(동적 계획법): 메모리 공간을 약간 더 사용하면 연산 속도를 비약적으로 증가시킬 수 있는 방법"
   ]
  },
  {
   "cell_type": "markdown",
   "id": "470f24a2",
   "metadata": {},
   "source": [
    "## 1. 피보나치 수열"
   ]
  },
  {
   "cell_type": "code",
   "execution_count": 12,
   "id": "182a3885",
   "metadata": {},
   "outputs": [
    {
     "name": "stdout",
     "output_type": "stream",
     "text": [
      "3\n",
      "55\n",
      "9227465\n"
     ]
    }
   ],
   "source": [
    "def fibo(x):\n",
    "    if x ==1 or x==2:\n",
    "        return 1\n",
    "    return fibo(x-1) + fibo(x-2)\n",
    "\n",
    "print(fibo(4))\n",
    "print(fibo(10))\n",
    "print(fibo(35))"
   ]
  },
  {
   "cell_type": "markdown",
   "id": "a9832b3e",
   "metadata": {},
   "source": [
    "- 위의 알고리즘은 $O(2^N)$의 지수시간이 소요되므로 숫자가 커질 수록 연산 시간이 기하급수적으로 늘어난다. 메모이제이션(Memoization) 기법을 사용하여 더 효율적으로 계산해보자."
   ]
  },
  {
   "cell_type": "code",
   "execution_count": 14,
   "id": "09a04c3c",
   "metadata": {},
   "outputs": [
    {
     "name": "stdout",
     "output_type": "stream",
     "text": [
      "f(35) f(34) f(33) f(32) f(31) f(30) f(29) f(28) f(27) f(26) f(25) f(24) f(23) f(22) f(21) f(20) f(19) f(18) f(17) f(16) f(15) f(14) f(13) f(12) f(11) f(10) f(9) f(8) f(7) f(6) f(5) f(4) f(3) f(2) f(1) f(2) f(3) f(4) f(5) f(6) f(7) f(8) f(9) f(10) f(11) f(12) f(13) f(14) f(15) f(16) f(17) f(18) f(19) f(20) f(21) f(22) f(23) f(24) f(25) f(26) f(27) f(28) f(29) f(30) f(31) f(32) f(33) 9227465\n"
     ]
    }
   ],
   "source": [
    "d= [0]*100\n",
    "\n",
    "def fibo(x):\n",
    "    print('f('+str(x)+')',end=' ')\n",
    "    if x==1 or x==2:\n",
    "        return 1\n",
    "    \n",
    "    if d[x] != 0:\n",
    "        return d[x]\n",
    "    \n",
    "    d[x] = fibo(x-1) + fibo(x-2)\n",
    "    return d[x]\n",
    "\n",
    "print(fibo(35))"
   ]
  },
  {
   "cell_type": "markdown",
   "id": "c52afe64",
   "metadata": {},
   "source": [
    "이미 계산된 값은 그대로 가져오게 함으로써 시간복잡도가 $𝑂(𝑁)$ 으로 줄어든다. 위와 같이 재귀함수를 사용하여 작은 문제를 호출하는 방식을 탑다운 방식이라고 한다."
   ]
  },
  {
   "cell_type": "code",
   "execution_count": 16,
   "id": "a480c842",
   "metadata": {},
   "outputs": [
    {
     "name": "stdout",
     "output_type": "stream",
     "text": [
      "9227465\n"
     ]
    }
   ],
   "source": [
    "d = [0]*100\n",
    "\n",
    "d[1] = 1\n",
    "d[2] = 1\n",
    "\n",
    "n = 35\n",
    "for i in range(3,n+1):\n",
    "    d[i] = d[i-1] + d[i-2]\n",
    "print(d[n])"
   ]
  },
  {
   "cell_type": "markdown",
   "id": "1519f713",
   "metadata": {},
   "source": [
    "위의 알고리즘은 보텀업 방식을 사용한 코드이다."
   ]
  },
  {
   "cell_type": "markdown",
   "id": "1386783d",
   "metadata": {},
   "source": [
    "## 2. 1로 만들기"
   ]
  },
  {
   "cell_type": "code",
   "execution_count": 24,
   "id": "77d1d59a",
   "metadata": {},
   "outputs": [],
   "source": [
    "def nanugi(x):\n",
    "    count = 0\n",
    "    while True:\n",
    "        if x % 5 == 0:\n",
    "            x = x/5\n",
    "            count += 1\n",
    "        elif x % 3 == 0:\n",
    "            x = x/3\n",
    "            count += 1\n",
    "        elif x % 2 == 0:\n",
    "            x = x/2\n",
    "            count += 1\n",
    "        else:\n",
    "            x = x-1\n",
    "            count += 1\n",
    "        if x == 1:\n",
    "            break\n",
    "    return count,x"
   ]
  },
  {
   "cell_type": "code",
   "execution_count": 33,
   "id": "6c9d1fdd",
   "metadata": {},
   "outputs": [
    {
     "data": {
      "text/plain": [
       "(3, 1.0)"
      ]
     },
     "execution_count": 33,
     "metadata": {},
     "output_type": "execute_result"
    }
   ],
   "source": [
    "nanugi(28)"
   ]
  },
  {
   "cell_type": "markdown",
   "id": "a073d1d1",
   "metadata": {},
   "source": [
    "위의 내가 처음 만든 알고리즘 문제점 : 1로 만드는 연산은 되지만, 연산의 최솟값을 구하는 알고리즘이 아니다."
   ]
  },
  {
   "cell_type": "code",
   "execution_count": 35,
   "id": "8462587c",
   "metadata": {},
   "outputs": [
    {
     "name": "stdout",
     "output_type": "stream",
     "text": [
      "26\n"
     ]
    }
   ],
   "source": [
    "x = int(input())"
   ]
  },
  {
   "cell_type": "code",
   "execution_count": 38,
   "id": "35cf9186",
   "metadata": {},
   "outputs": [
    {
     "name": "stdout",
     "output_type": "stream",
     "text": [
      "3\n"
     ]
    }
   ],
   "source": [
    "# 연산의 최솟값을 저장할 리스트\n",
    "d = [0]*30001\n",
    "\n",
    "for i in range(2,x+1):\n",
    "    \n",
    "    d[i] = d[i-1] + 1   # 현재 수에서 1을 빼는 경우 연산 횟수가 한 번 더해짐\n",
    "    \n",
    "    if i % 2 == 0:\n",
    "        d[i] = min(d[i],d[i//2] + 1) # 1을 빼고 다음 연산을 이어나가는 경우와, 2로 나눈 후 다음 연산을 이어나가는 경우 중 최소값.\n",
    "    elif i % 3 == 0:\n",
    "        d[i] = min(d[i],d[i//3] + 1) # 위와 똑같은 방식\n",
    "    if i% 5 ==0:\n",
    "        d[i] = min(d[i],d[i//5] + 1) # 위와 똑같은 방식\n",
    "print(d[x])"
   ]
  },
  {
   "cell_type": "markdown",
   "id": "502e0643",
   "metadata": {},
   "source": [
    "연산의 최솟값을 리스트로 가져와서 각 경우의 수의 연산의 횟수를 비교하여 다음 값으로 넣는 방식을 이용하여 알고리즘을 만든다."
   ]
  },
  {
   "cell_type": "markdown",
   "id": "57376591",
   "metadata": {},
   "source": [
    "## 3. 개미 전사"
   ]
  },
  {
   "cell_type": "code",
   "execution_count": 41,
   "id": "e0c688aa",
   "metadata": {},
   "outputs": [
    {
     "name": "stdout",
     "output_type": "stream",
     "text": [
      "4\n",
      "1 3 1 5\n"
     ]
    }
   ],
   "source": [
    "n = int(input())\n",
    "k = list(map(int,input().split()))"
   ]
  },
  {
   "cell_type": "code",
   "execution_count": 53,
   "id": "281f228e",
   "metadata": {},
   "outputs": [
    {
     "name": "stdout",
     "output_type": "stream",
     "text": [
      "8\n"
     ]
    }
   ],
   "source": [
    "d = [0]*101\n",
    "d[0] = k[0]\n",
    "d[1] = max(k[0],k[1])\n",
    "\n",
    "for i in range(2,n):\n",
    "    d[i] = max(d[i-1],d[i-2]+k[i])\n",
    "print(d[n-1])"
   ]
  },
  {
   "cell_type": "markdown",
   "id": "eadcdcc3",
   "metadata": {},
   "source": [
    "## 4. 바닥 공사"
   ]
  },
  {
   "cell_type": "code",
   "execution_count": 54,
   "id": "e2a7ae3c",
   "metadata": {},
   "outputs": [
    {
     "name": "stdout",
     "output_type": "stream",
     "text": [
      "3\n"
     ]
    }
   ],
   "source": [
    "n = int(input())"
   ]
  },
  {
   "cell_type": "code",
   "execution_count": 58,
   "id": "b7499aa6",
   "metadata": {},
   "outputs": [
    {
     "name": "stdout",
     "output_type": "stream",
     "text": [
      "5\n"
     ]
    }
   ],
   "source": [
    "d = [0]*1001\n",
    "\n",
    "d[1] = 1\n",
    "d[2] = 3\n",
    "\n",
    "for i in range(3,n+1):\n",
    "    d[i] = (d[i-1] + 2*d[i-2]) %796796\n",
    "print(d[n])"
   ]
  },
  {
   "cell_type": "markdown",
   "id": "696a57ad",
   "metadata": {},
   "source": [
    "## 5. 효율적인 화폐 구성"
   ]
  },
  {
   "cell_type": "code",
   "execution_count": 59,
   "id": "4634fb6e",
   "metadata": {},
   "outputs": [
    {
     "name": "stdout",
     "output_type": "stream",
     "text": [
      "2 15\n"
     ]
    }
   ],
   "source": [
    "n,m = map(int,input().split())"
   ]
  },
  {
   "cell_type": "code",
   "execution_count": 61,
   "id": "378e419e",
   "metadata": {},
   "outputs": [
    {
     "name": "stdout",
     "output_type": "stream",
     "text": [
      "2\n",
      "3\n"
     ]
    }
   ],
   "source": [
    "array = []\n",
    "for _ in range(n):\n",
    "    array.append(int(input()))"
   ]
  },
  {
   "cell_type": "code",
   "execution_count": 66,
   "id": "431b688f",
   "metadata": {},
   "outputs": [
    {
     "name": "stdout",
     "output_type": "stream",
     "text": [
      "5\n"
     ]
    }
   ],
   "source": [
    "d = [100001]*10001\n",
    "\n",
    "d[0] = 0\n",
    "\n",
    "for i in range(n):\n",
    "    for j in range(array[i],m+1):\n",
    "        if d[j-array[i]] != 100001:\n",
    "            d[j] =min(d[j],d[j-array[i]]+1)\n",
    "\n",
    "if d[m] == 100001:\n",
    "    print(-1)\n",
    "else:\n",
    "    print(d[m])"
   ]
  },
  {
   "cell_type": "code",
   "execution_count": 68,
   "id": "bd075959",
   "metadata": {},
   "outputs": [
    {
     "name": "stdout",
     "output_type": "stream",
     "text": [
      "3 4\n",
      "3\n",
      "5\n",
      "7\n"
     ]
    }
   ],
   "source": [
    "n,m = map(int,input().split())\n",
    "array = []\n",
    "for _ in range(n):\n",
    "    array.append(int(input()))"
   ]
  },
  {
   "cell_type": "code",
   "execution_count": 69,
   "id": "795309c5",
   "metadata": {},
   "outputs": [
    {
     "name": "stdout",
     "output_type": "stream",
     "text": [
      "-1\n"
     ]
    }
   ],
   "source": [
    "d = [100001]*10001\n",
    "\n",
    "d[0] = 0\n",
    "\n",
    "for i in range(n):\n",
    "    for j in range(array[i],m+1):\n",
    "        if d[j-array[i]] != 100001:\n",
    "            d[j] =min(d[j],d[j-array[i]]+1)\n",
    "\n",
    "if d[m] == 100001:\n",
    "    print(-1)\n",
    "else:\n",
    "    print(d[m])"
   ]
  }
 ],
 "metadata": {
  "kernelspec": {
   "display_name": "Python 3 (ipykernel)",
   "language": "python",
   "name": "python3"
  },
  "language_info": {
   "codemirror_mode": {
    "name": "ipython",
    "version": 3
   },
   "file_extension": ".py",
   "mimetype": "text/x-python",
   "name": "python",
   "nbconvert_exporter": "python",
   "pygments_lexer": "ipython3",
   "version": "3.9.6"
  }
 },
 "nbformat": 4,
 "nbformat_minor": 5
}
