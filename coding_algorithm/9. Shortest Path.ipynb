{
 "cells": [
  {
   "cell_type": "markdown",
   "id": "68c7925d",
   "metadata": {},
   "source": [
    "## 다익스트라 최단 경로 알고리즘"
   ]
  },
  {
   "cell_type": "markdown",
   "id": "31a0ae8e",
   "metadata": {},
   "source": [
    "특정한 노드에서 출발하여 다른 노드로 가는 각각의 최단 경로를 구해주는 알고리즘"
   ]
  },
  {
   "cell_type": "markdown",
   "id": "d1fc3e44",
   "metadata": {},
   "source": [
    "1) 출발 노드 설정 <br>\n",
    "2) 최단 거리 테이블 초기화 <br>\n",
    "3) 방문하지 않은 노드 중에서 최단 거리가 가장 짧은 노드 선택 <br>\n",
    "4) 해당 노드를 거쳐 다른 노드로 가는 비용을 계산하여 최단 거리를 테이블 갱신 <br>\n",
    "5) 위 과정에서 $3$과 $4$번 반복 <br>"
   ]
  },
  {
   "cell_type": "code",
   "execution_count": 3,
   "id": "afd783b8",
   "metadata": {},
   "outputs": [
    {
     "name": "stdout",
     "output_type": "stream",
     "text": [
      "6 11\n",
      "1\n",
      "1 2 2\n",
      "1 3 5\n",
      "1 4 1\n",
      "2 3 3\n",
      "2 4 2\n",
      "3 2 3\n",
      "3 6 5\n",
      "4 3 3\n",
      "4 5 1\n",
      "5 3 1\n",
      "5 6 2\n"
     ]
    }
   ],
   "source": [
    "# import sys\n",
    "# input = sys.stdin.readline \n",
    "\n",
    "INF = int(1e9)\n",
    "n, m = map(int,input().split())\n",
    "start = int(input())\n",
    "graph = [[] for i in range(n+1)] # 노드 연결 및 비용\n",
    "visited = [False] * (n+1) ## 방문하면 True\n",
    "distance = [INF] * (n+1) ## 노드에 도달하는 최단거리 갱신해주는 테이블\n",
    "\n",
    "for _ in range(m):\n",
    "    a,b,c = map(int,input().split())\n",
    "    graph[a].append((b,c))"
   ]
  },
  {
   "cell_type": "code",
   "execution_count": 4,
   "id": "5feedb7d",
   "metadata": {},
   "outputs": [],
   "source": [
    "def get_smallest_node():\n",
    "    min_value = INF\n",
    "    index = 0\n",
    "    for i in range(1,n+1):\n",
    "        if distance[i] < min_value and not visited[i]:\n",
    "            min_value = distance[i]\n",
    "            index = i\n",
    "    return index"
   ]
  },
  {
   "cell_type": "code",
   "execution_count": 5,
   "id": "adbacdf6",
   "metadata": {},
   "outputs": [],
   "source": [
    "def dijkstra(start):\n",
    "    \n",
    "    distance[start] = 0\n",
    "    visited[start] = 0\n",
    "    for j in graph[start]:\n",
    "        distance[j[0]] = j[1]\n",
    "        \n",
    "    for i in range(n-1): # n-1 번 이동해서 마지막까지 도달해야되니까 for문 사용\n",
    "        now = get_smallest_node()\n",
    "        visited[now] = True\n",
    "        \n",
    "        for j in graph[now]:\n",
    "            cost = distance[now] + j[1]\n",
    "            \n",
    "            if cost < distance[j[0]]:\n",
    "                distance[j[0]] = cost"
   ]
  },
  {
   "cell_type": "code",
   "execution_count": 6,
   "id": "abd55e3a",
   "metadata": {},
   "outputs": [],
   "source": [
    "dijkstra(start)"
   ]
  },
  {
   "cell_type": "code",
   "execution_count": 7,
   "id": "20ad5b72",
   "metadata": {},
   "outputs": [
    {
     "data": {
      "text/plain": [
       "[1000000000, 0, 2, 3, 1, 2, 4]"
      ]
     },
     "execution_count": 7,
     "metadata": {},
     "output_type": "execute_result"
    }
   ],
   "source": [
    "distance"
   ]
  },
  {
   "cell_type": "code",
   "execution_count": 8,
   "id": "e6fc9fce",
   "metadata": {},
   "outputs": [
    {
     "name": "stdout",
     "output_type": "stream",
     "text": [
      "1 노드 비용: 0\n",
      "2 노드 비용: 2\n",
      "3 노드 비용: 3\n",
      "4 노드 비용: 1\n",
      "5 노드 비용: 2\n",
      "6 노드 비용: 4\n"
     ]
    }
   ],
   "source": [
    "for i in range(1,n+1):\n",
    "    if distance[i] == INF:\n",
    "        print(f'{i} 노드: not arrive')\n",
    "    else:\n",
    "         print(f'{i} 노드 비용: {distance[i]}')"
   ]
  },
  {
   "cell_type": "markdown",
   "id": "4f69a68a",
   "metadata": {},
   "source": [
    "## 개선된 다익스트라 알고리즘"
   ]
  },
  {
   "cell_type": "markdown",
   "id": "c4b3305f",
   "metadata": {},
   "source": [
    "heap 구조 : 우선순위 큐를 구현하기 위하여 사용하는 자료구조 <br> heap 자료 구조 사용 시 특정 노드까지의 최단 거리에 대한 정보를 담아서 처리하므로 출발 노드로부터 가장 거리가 짧은 노드를 더욱 빠르게 찾을 수 있다."
   ]
  },
  {
   "cell_type": "code",
   "execution_count": 17,
   "id": "5df3a970",
   "metadata": {},
   "outputs": [],
   "source": [
    "import heapq\n",
    "\n",
    "distance2 = [INF]*(n+1)\n",
    "\n",
    "def dijkstra2(start):\n",
    "    q = []\n",
    "    # 시작 노드로 가는 경로 삽입\n",
    "    heapq.heappush(q,(0,start))\n",
    "    \n",
    "    while q:\n",
    "        # 가장 거리가 짧은 노드에 대한 정보 꺼내기\n",
    "        dist, now = heapq.heappop(q) #dist = 현재 노드까지 가는 거리, now = 현재 노드\n",
    "        \n",
    "        # 방문했었다면 INF가 아니라 낮은 숫자로 표현될 것이므로 아래 조건 사용하여 방문 여부 확인\n",
    "        if distance2[now] < dist:\n",
    "            continue\n",
    "            \n",
    "        #  현재 노드와 연결된 다른 인접한 노드들을 확인\n",
    "        for i in graph[now]:\n",
    "            cost = dist + i[1]  \n",
    "            if cost < distance2[i[0]]:\n",
    "                distance2[i[0]] = cost\n",
    "                heapq.heappush(q,(cost,i[0]))"
   ]
  },
  {
   "cell_type": "code",
   "execution_count": 18,
   "id": "239c0e47",
   "metadata": {},
   "outputs": [],
   "source": [
    "dijkstra2(start)"
   ]
  },
  {
   "cell_type": "code",
   "execution_count": 21,
   "id": "22738589",
   "metadata": {},
   "outputs": [
    {
     "name": "stdout",
     "output_type": "stream",
     "text": [
      "Infinity\n",
      "2\n",
      "3\n",
      "1\n",
      "2\n",
      "4\n"
     ]
    }
   ],
   "source": [
    "for i in range(1,n+1):\n",
    "    if distance2[i] == INF:\n",
    "        print('Infinity')\n",
    "    else:\n",
    "        print(distance2[i])"
   ]
  },
  {
   "cell_type": "markdown",
   "id": "513722f8",
   "metadata": {},
   "source": [
    "## 플로이드 워셜 알고리즘"
   ]
  },
  {
   "cell_type": "markdown",
   "id": "cdd33f2f",
   "metadata": {},
   "source": [
    "모든 지점에서 다른 지점까지의 최단 경로를 모두 구해야 하는 경우에 사용하는 알고리즘"
   ]
  },
  {
   "cell_type": "code",
   "execution_count": 24,
   "id": "bb2749b1",
   "metadata": {},
   "outputs": [
    {
     "name": "stdout",
     "output_type": "stream",
     "text": [
      "4\n",
      "7\n"
     ]
    }
   ],
   "source": [
    "INF = int(1e9)\n",
    "\n",
    "n = int(input())\n",
    "m = int(input())\n",
    "\n",
    "graph =  [[INF]*(n+1) for _ in range(n+1)]"
   ]
  },
  {
   "cell_type": "code",
   "execution_count": 25,
   "id": "f8c790d1",
   "metadata": {},
   "outputs": [
    {
     "name": "stdout",
     "output_type": "stream",
     "text": [
      "1 2 4\n",
      "1 4 6\n",
      "2 1 3\n",
      "2 3 7\n",
      "3 1 5\n",
      "3 4 4\n",
      "4 3 2\n"
     ]
    }
   ],
   "source": [
    "for a in range(1,n+1):\n",
    "    for b in range(1,n+1):\n",
    "        if a == b:\n",
    "            graph[a][b] = 0\n",
    "\n",
    "# 먼저 그래프 노드간 간선 입력\n",
    "for _ in range(m):\n",
    "    a,b,c = map(int,input().split())\n",
    "    graph[a][b] = c"
   ]
  },
  {
   "cell_type": "code",
   "execution_count": 26,
   "id": "e556c89e",
   "metadata": {},
   "outputs": [],
   "source": [
    "# 플로이드 워셜 알고리즘 수행\n",
    "for k in range(1,n+1):\n",
    "    for a in range(1,n+1):\n",
    "        for b in range(1,n+1):\n",
    "            graph[a][b] = min(graph[a][b],graph[a][k]+graph[k][b])"
   ]
  },
  {
   "cell_type": "code",
   "execution_count": 29,
   "id": "83279c41",
   "metadata": {},
   "outputs": [
    {
     "data": {
      "text/plain": [
       "[[1000000000, 1000000000, 1000000000, 1000000000, 1000000000],\n",
       " [1000000000, 0, 4, 8, 6],\n",
       " [1000000000, 3, 0, 7, 9],\n",
       " [1000000000, 5, 9, 0, 4],\n",
       " [1000000000, 7, 11, 2, 0]]"
      ]
     },
     "execution_count": 29,
     "metadata": {},
     "output_type": "execute_result"
    }
   ],
   "source": [
    "graph"
   ]
  },
  {
   "cell_type": "code",
   "execution_count": 28,
   "id": "ad6507e7",
   "metadata": {},
   "outputs": [
    {
     "name": "stdout",
     "output_type": "stream",
     "text": [
      "0 4 8 6 \n",
      "3 0 7 9 \n",
      "5 9 0 4 \n",
      "7 11 2 0 \n"
     ]
    }
   ],
   "source": [
    "for a in range(1,n+1):\n",
    "    for b in range(1,n+1):\n",
    "        if graph[a][b] == INF:\n",
    "            print('Infinity',end=' ')\n",
    "        else:\n",
    "            print(graph[a][b], end = ' ')\n",
    "    print()"
   ]
  },
  {
   "cell_type": "markdown",
   "id": "015f0715",
   "metadata": {},
   "source": [
    "## 2. 미래 도시"
   ]
  },
  {
   "cell_type": "code",
   "execution_count": 45,
   "id": "257e899c",
   "metadata": {},
   "outputs": [
    {
     "name": "stdout",
     "output_type": "stream",
     "text": [
      "5 7\n",
      "1 2 \n",
      "1 3\n",
      "1 4\n",
      "2 4\n",
      "3 4\n",
      "3 5\n",
      "4 5\n",
      "4 5\n"
     ]
    }
   ],
   "source": [
    "\n",
    "n, m = map(int,input().split())\n",
    "\n",
    "INF = int(1e9)\n",
    "graph = [[INF]*(n+1) for _ in range(n+1)]\n",
    "\n",
    "for a in range(1,n+1):\n",
    "    for b in range(1,n+1):\n",
    "        if a==b:\n",
    "            graph[a][b] = 0\n",
    "\n",
    "for _ in range(m):\n",
    "    a,b = map(int,input().split())\n",
    "    graph[a][b] = 1\n",
    "    graph[b][a] = 1\n",
    "x,k = map(int,input().split())"
   ]
  },
  {
   "cell_type": "code",
   "execution_count": 46,
   "id": "7a437317",
   "metadata": {},
   "outputs": [
    {
     "data": {
      "text/plain": [
       "[[1000000000, 1000000000, 1000000000, 1000000000, 1000000000, 1000000000],\n",
       " [1000000000, 0, 1, 1, 1, 1000000000],\n",
       " [1000000000, 1, 0, 1000000000, 1, 1000000000],\n",
       " [1000000000, 1, 1000000000, 0, 1, 1],\n",
       " [1000000000, 1, 1, 1, 0, 1],\n",
       " [1000000000, 1000000000, 1000000000, 1, 1, 0]]"
      ]
     },
     "execution_count": 46,
     "metadata": {},
     "output_type": "execute_result"
    }
   ],
   "source": [
    "graph"
   ]
  },
  {
   "cell_type": "code",
   "execution_count": 47,
   "id": "5952fd3f",
   "metadata": {},
   "outputs": [],
   "source": [
    "for k in range(1,n+1):\n",
    "    for a in range(1,n+1):\n",
    "        for b in range(1,n+1):\n",
    "            graph[a][b] = min(graph[a][b],graph[a][k]+graph[k][b])"
   ]
  },
  {
   "cell_type": "code",
   "execution_count": 48,
   "id": "4718fa29",
   "metadata": {},
   "outputs": [
    {
     "data": {
      "text/plain": [
       "[[1000000000, 1000000000, 1000000000, 1000000000, 1000000000, 1000000000],\n",
       " [1000000000, 0, 1, 1, 1, 2],\n",
       " [1000000000, 1, 0, 2, 1, 2],\n",
       " [1000000000, 1, 2, 0, 1, 1],\n",
       " [1000000000, 1, 1, 1, 0, 1],\n",
       " [1000000000, 2, 2, 1, 1, 0]]"
      ]
     },
     "execution_count": 48,
     "metadata": {},
     "output_type": "execute_result"
    }
   ],
   "source": [
    "graph"
   ]
  },
  {
   "cell_type": "code",
   "execution_count": 49,
   "id": "c9d38cb6",
   "metadata": {},
   "outputs": [],
   "source": [
    "distance = graph[1][k] + graph[k][x]"
   ]
  },
  {
   "cell_type": "code",
   "execution_count": 50,
   "id": "eb907454",
   "metadata": {},
   "outputs": [
    {
     "name": "stdout",
     "output_type": "stream",
     "text": [
      "3\n"
     ]
    }
   ],
   "source": [
    "if distance >= INF:\n",
    "    print('-1')\n",
    "else:\n",
    "    print(distance)"
   ]
  },
  {
   "cell_type": "markdown",
   "id": "97600052",
   "metadata": {},
   "source": [
    "## 3. 전보"
   ]
  },
  {
   "cell_type": "code",
   "execution_count": 55,
   "id": "e3a1b9bf",
   "metadata": {},
   "outputs": [
    {
     "name": "stdout",
     "output_type": "stream",
     "text": [
      "3 2 1\n",
      "1 2 4\n",
      "1 3 2\n"
     ]
    }
   ],
   "source": [
    "n, m, c  = map(int,input().split())\n",
    "INF = int(1e9)\n",
    "graph = [[] for i in range(n+1)]\n",
    "for _ in range(m):\n",
    "    x,y,z = map(int,input().split())\n",
    "    graph[x].append((y,z))\n",
    "\n",
    "distance = [INF] * (n+1)"
   ]
  },
  {
   "cell_type": "code",
   "execution_count": 56,
   "id": "f3a9f91b",
   "metadata": {},
   "outputs": [
    {
     "data": {
      "text/plain": [
       "[[], [(2, 4), (3, 2)], [], []]"
      ]
     },
     "execution_count": 56,
     "metadata": {},
     "output_type": "execute_result"
    }
   ],
   "source": [
    "graph"
   ]
  },
  {
   "cell_type": "code",
   "execution_count": 57,
   "id": "d240b4cc",
   "metadata": {},
   "outputs": [
    {
     "data": {
      "text/plain": [
       "(3, 2)"
      ]
     },
     "execution_count": 57,
     "metadata": {},
     "output_type": "execute_result"
    }
   ],
   "source": [
    "graph[1][1]"
   ]
  },
  {
   "cell_type": "code",
   "execution_count": 62,
   "id": "7261996f",
   "metadata": {},
   "outputs": [],
   "source": [
    "import heapq\n",
    "\n",
    "def dijkstra(start):\n",
    "    q= []\n",
    "    heapq.heappush(q,(start,0))\n",
    "    distance[start] = 0 #시작점 0으로 설정해줘야 뒤에 안 걸림\n",
    "    \n",
    "    while q:\n",
    "        now, dist = heapq.heappop(q)\n",
    "        \n",
    "        if distance[now] < dist:\n",
    "            continue #다음 루프로 넘어감\n",
    "        \n",
    "        for i in graph[now]: #graph[now]  하나의 원소들이 튜플\n",
    "            cost = dist + i[1]\n",
    "            if cost < distance[i[0]]:\n",
    "                distance[i[0]] = cost\n",
    "                heapq.heappush(q,(i[0],cost))"
   ]
  },
  {
   "cell_type": "code",
   "execution_count": 63,
   "id": "5ce45787",
   "metadata": {},
   "outputs": [],
   "source": [
    "dijkstra(c)"
   ]
  },
  {
   "cell_type": "code",
   "execution_count": 65,
   "id": "edf827e4",
   "metadata": {},
   "outputs": [
    {
     "data": {
      "text/plain": [
       "[1000000000, 0, 4, 2]"
      ]
     },
     "execution_count": 65,
     "metadata": {},
     "output_type": "execute_result"
    }
   ],
   "source": [
    "distance"
   ]
  },
  {
   "cell_type": "code",
   "execution_count": 67,
   "id": "239bafb6",
   "metadata": {},
   "outputs": [
    {
     "name": "stdout",
     "output_type": "stream",
     "text": [
      "2 4\n"
     ]
    }
   ],
   "source": [
    "count = 0\n",
    "max_distance = 0\n",
    "\n",
    "for d in distance:\n",
    "    if d != INF:\n",
    "        count +=1\n",
    "        max_distance = max(max_distance,d)\n",
    "\n",
    "print(count-1,max_distance)"
   ]
  }
 ],
 "metadata": {
  "kernelspec": {
   "display_name": "Python 3 (ipykernel)",
   "language": "python",
   "name": "python3"
  },
  "language_info": {
   "codemirror_mode": {
    "name": "ipython",
    "version": 3
   },
   "file_extension": ".py",
   "mimetype": "text/x-python",
   "name": "python",
   "nbconvert_exporter": "python",
   "pygments_lexer": "ipython3",
   "version": "3.9.6"
  }
 },
 "nbformat": 4,
 "nbformat_minor": 5
}
