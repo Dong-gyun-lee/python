{
 "cells": [
  {
   "cell_type": "markdown",
   "id": "f085da2e",
   "metadata": {},
   "source": [
    "## 이진탐색"
   ]
  },
  {
   "cell_type": "markdown",
   "id": "33a48d45",
   "metadata": {},
   "source": [
    "배열 내부가 정렬되어 있어야만 사용할 수 있는 알고리즘"
   ]
  },
  {
   "cell_type": "code",
   "execution_count": 1,
   "id": "44a6d910",
   "metadata": {},
   "outputs": [],
   "source": [
    "def binary_search(array, target, start, end):\n",
    "    while start <= end:\n",
    "        mid = (start + end)//2\n",
    "        \n",
    "        if array[mid] == target:\n",
    "            return mid\n",
    "        \n",
    "        elif array[mid] > target:\n",
    "            end = mid - 1\n",
    "            \n",
    "        else:\n",
    "            start = mid + 1\n",
    "    return None"
   ]
  },
  {
   "cell_type": "code",
   "execution_count": 2,
   "id": "cbf9fdd4",
   "metadata": {},
   "outputs": [
    {
     "name": "stdout",
     "output_type": "stream",
     "text": [
      "10 7\n",
      "1 3 5 6 9 11 13 15 17 19\n"
     ]
    }
   ],
   "source": [
    "n, target = map(int,input().split())\n",
    "array = list(map(int,input().split()))"
   ]
  },
  {
   "cell_type": "code",
   "execution_count": 3,
   "id": "3c8260b8",
   "metadata": {},
   "outputs": [
    {
     "name": "stdout",
     "output_type": "stream",
     "text": [
      "원소 존재X\n"
     ]
    }
   ],
   "source": [
    "result = binary_search(array,target,0,n-1)\n",
    "\n",
    "if result == None:\n",
    "    print ('원소 존재X')\n",
    "else:\n",
    "    print(result + 1)"
   ]
  },
  {
   "cell_type": "code",
   "execution_count": 5,
   "id": "bb2de8ec",
   "metadata": {},
   "outputs": [
    {
     "name": "stdout",
     "output_type": "stream",
     "text": [
      "4\n"
     ]
    }
   ],
   "source": [
    "print(binary_search(array,6,0,n-1)+1)"
   ]
  },
  {
   "cell_type": "code",
   "execution_count": 7,
   "id": "ab06f720",
   "metadata": {},
   "outputs": [
    {
     "name": "stdout",
     "output_type": "stream",
     "text": [
      "\n"
     ]
    }
   ],
   "source": [
    "# import sys\n",
    "# input_data = sys.stdin.readline().rstrip()\n",
    "# print(input_data)"
   ]
  },
  {
   "cell_type": "markdown",
   "id": "46c11b97",
   "metadata": {},
   "source": [
    "## 2. 부품 찾기"
   ]
  },
  {
   "cell_type": "code",
   "execution_count": null,
   "id": "1b7d1e9c",
   "metadata": {},
   "outputs": [],
   "source": [
    "n = map(int,input().split())\n",
    "store = list(map(int,input().split()))\n",
    "m = map(int,input().split())\n",
    "customer = list(map(int,input().split()))"
   ]
  },
  {
   "cell_type": "code",
   "execution_count": 10,
   "id": "d381cd4e",
   "metadata": {},
   "outputs": [],
   "source": [
    "n = 5\n",
    "store = [8,3,7,9,2]\n",
    "m = 3\n",
    "customer = [5,7,9]"
   ]
  },
  {
   "cell_type": "markdown",
   "id": "dcb1ba2b",
   "metadata": {},
   "source": [
    "원래는 위에 입력으로 지정해야 되지만 편의 상 변수 지정함"
   ]
  },
  {
   "cell_type": "code",
   "execution_count": 19,
   "id": "a1c1a563",
   "metadata": {},
   "outputs": [],
   "source": [
    "def binary(array,target,start,end):\n",
    "    while start<=end:\n",
    "        mid = (start + end)//2\n",
    "            \n",
    "        if array[mid] == target:\n",
    "            return mid\n",
    "                \n",
    "        elif array[mid] > target:\n",
    "                end = mid -1\n",
    "        else:\n",
    "            start = mid + 1\n",
    "            \n",
    "    return None"
   ]
  },
  {
   "cell_type": "code",
   "execution_count": 20,
   "id": "4ca0f48f",
   "metadata": {},
   "outputs": [
    {
     "name": "stdout",
     "output_type": "stream",
     "text": [
      "no yes yes "
     ]
    }
   ],
   "source": [
    "for i in customer:\n",
    "    re = binary(store,i,0,n-1)\n",
    "    if re != None:\n",
    "        print('yes', end= ' ')\n",
    "    else:\n",
    "        print('no', end= ' ')"
   ]
  },
  {
   "cell_type": "markdown",
   "id": "2ac43d57",
   "metadata": {},
   "source": [
    "- 계수 정렬 방법 이용해서 풀기"
   ]
  },
  {
   "cell_type": "code",
   "execution_count": 23,
   "id": "7a7b581c",
   "metadata": {},
   "outputs": [
    {
     "name": "stdout",
     "output_type": "stream",
     "text": [
      "5\n",
      "8 3 7 9 2\n",
      "3\n",
      "5 7 9\n"
     ]
    }
   ],
   "source": [
    "n = int(input())\n",
    "store = [0]*10000001\n",
    "\n",
    "for i in input().split():\n",
    "    store[int(i)] += 1\n",
    "\n",
    "m = int(input())\n",
    "customer = list(map(int,input().split()))"
   ]
  },
  {
   "cell_type": "code",
   "execution_count": 26,
   "id": "3182fead",
   "metadata": {},
   "outputs": [
    {
     "name": "stdout",
     "output_type": "stream",
     "text": [
      "no yes yes "
     ]
    }
   ],
   "source": [
    "for i in customer:\n",
    "    if store[i] >= 1:\n",
    "        print('yes',end=' ')\n",
    "    else: \n",
    "        print('no',end=' ')"
   ]
  },
  {
   "cell_type": "markdown",
   "id": "4fe5698e",
   "metadata": {},
   "source": [
    "## 3. 떡볶이 떡 만들기"
   ]
  },
  {
   "cell_type": "code",
   "execution_count": null,
   "id": "36f1bf18",
   "metadata": {},
   "outputs": [],
   "source": [
    "n, m = map(int,input().split())\n",
    "array = list(map(int,input().split()))"
   ]
  },
  {
   "cell_type": "code",
   "execution_count": 31,
   "id": "a74c4c37",
   "metadata": {},
   "outputs": [],
   "source": [
    "n, m = 4,6\n",
    "array = [19,15,10,17]"
   ]
  },
  {
   "cell_type": "code",
   "execution_count": 34,
   "id": "9a5b3cf7",
   "metadata": {},
   "outputs": [],
   "source": [
    "def binary2(array,target,start=0,end=max(array)):\n",
    "    while start <= end:\n",
    "        \n",
    "        total = 0\n",
    "        mid = (start + end)//2\n",
    "        \n",
    "        for x in array:\n",
    "            if x > mid:\n",
    "                total += x - mid\n",
    "        \n",
    "        if total < m:\n",
    "            end = mid -1\n",
    "        \n",
    "        else : \n",
    "            result = mid\n",
    "            start = mid + 1\n",
    "    return result"
   ]
  },
  {
   "cell_type": "code",
   "execution_count": 35,
   "id": "fe3ef0ad",
   "metadata": {},
   "outputs": [
    {
     "name": "stdout",
     "output_type": "stream",
     "text": [
      "15\n"
     ]
    }
   ],
   "source": [
    "print(binary2(array,m))"
   ]
  }
 ],
 "metadata": {
  "kernelspec": {
   "display_name": "Python 3 (ipykernel)",
   "language": "python",
   "name": "python3"
  },
  "language_info": {
   "codemirror_mode": {
    "name": "ipython",
    "version": 3
   },
   "file_extension": ".py",
   "mimetype": "text/x-python",
   "name": "python",
   "nbconvert_exporter": "python",
   "pygments_lexer": "ipython3",
   "version": "3.9.6"
  }
 },
 "nbformat": 4,
 "nbformat_minor": 5
}
