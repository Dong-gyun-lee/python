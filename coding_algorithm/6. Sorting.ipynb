{
 "cells": [
  {
   "cell_type": "markdown",
   "id": "c380927c",
   "metadata": {},
   "source": [
    "## 선택 정렬"
   ]
  },
  {
   "cell_type": "markdown",
   "id": "196f1ad5",
   "metadata": {},
   "source": [
    "가장 작은 데이터를 선택해서 맨 앞의 데이터와 바꾸고, 그 다음 데이터에 반복해서 적용해서 정렬"
   ]
  },
  {
   "cell_type": "code",
   "execution_count": 3,
   "id": "c712dc05",
   "metadata": {},
   "outputs": [
    {
     "name": "stdout",
     "output_type": "stream",
     "text": [
      "[0, 1, 2, 3, 4, 5, 6, 7, 8, 9]\n"
     ]
    }
   ],
   "source": [
    "array = [7,5,9,0,3,1,6,2,4,8]\n",
    "\n",
    "for i in range(len(array)):\n",
    "    min_index= i\n",
    "    for j in range(i+1,len(array)):\n",
    "        if array[min_index] > array[j]:\n",
    "            min_index = j\n",
    "    array[i], array[min_index] = array[min_index], array[i]\n",
    "\n",
    "print(array)"
   ]
  },
  {
   "cell_type": "markdown",
   "id": "2d23d024",
   "metadata": {},
   "source": [
    "## 삽입 정렬"
   ]
  },
  {
   "cell_type": "markdown",
   "id": "b4ac7d28",
   "metadata": {},
   "source": [
    "두 번째 데이터부터 적용하고, 앞의 데이터들 사이에서 어디에 위치할지 판별해서 정렬"
   ]
  },
  {
   "cell_type": "code",
   "execution_count": 6,
   "id": "7ed0cca0",
   "metadata": {},
   "outputs": [
    {
     "name": "stdout",
     "output_type": "stream",
     "text": [
      "[0, 1, 2, 3, 4, 5, 6, 7, 8, 9]\n"
     ]
    }
   ],
   "source": [
    "array = [7,5,9,0,3,1,6,2,4,8]\n",
    "\n",
    "for i in range(1,len(array)):\n",
    "    for j in range(i,0,-1):\n",
    "        if array[j] < array[j-1]:\n",
    "            array[j] , array[j-1] = array[j-1], array[j]\n",
    "        else:\n",
    "            break\n",
    "print(array)"
   ]
  },
  {
   "cell_type": "markdown",
   "id": "5ff308d3",
   "metadata": {},
   "source": [
    "## 퀵 정렬"
   ]
  },
  {
   "cell_type": "markdown",
   "id": "0b272721",
   "metadata": {},
   "source": [
    "기준을 설정한 다음 큰 수와 작은 수를 교환한 후 리스트를 반으로 나누는 방식으로 동작 <br>\n",
    "피벗(Pivot): 큰 숫자와 작은 숫자 교환 시 교환기준"
   ]
  },
  {
   "cell_type": "code",
   "execution_count": 1,
   "id": "8d381708",
   "metadata": {},
   "outputs": [
    {
     "name": "stdout",
     "output_type": "stream",
     "text": [
      "[0, 1, 2, 3, 4, 5, 6, 7, 8, 9]\n"
     ]
    }
   ],
   "source": [
    "array = [5,7,9,0,3,1,6,2,4,8]\n",
    "\n",
    "def quick_sort(array, start, end):\n",
    "    if start >= end: # 원소가 1개인 경우 종료\n",
    "        return\n",
    "    \n",
    "    pivot = start # list에서 첫번째 데이터를 pivot으로 정한다.\n",
    "    left = start +1 # pivot 오른쪽부터 탐색 시작\n",
    "    right = end # 데이터 끝에서부터 탐색 시작\n",
    "    \n",
    "    while left <= right:\n",
    "        # 왼쪽부터 탐색하면서 피벗보다 큰 수 나오면 멈춤\n",
    "        while left <= end and array[left] <= array[pivot]:\n",
    "            left += 1\n",
    "        \n",
    "         # 오른쪽부터 탐색하면서 피벗보다 작은 수 나오면 멈춤\n",
    "        while right > start and array[right] >= array[pivot]:\n",
    "            right -= 1\n",
    "            \n",
    "        if left > right: # 교차하면 피벗과 작은 데이터를 교체\n",
    "            array[right], array[pivot] = array[pivot], array[right]\n",
    "            \n",
    "        else: # 피벗보다 큰 수와 피벗보다 작은 수 교체\n",
    "            array[left], array[right] = array[right], array[left]\n",
    "    \n",
    "    # 분할 후 right에 위치한 수는 left 혹은 pivot보다는 큰 수 이므로 분할된 부분에서 각각 다시 퀵 정렬 수행\n",
    "    quick_sort(array,start,right-1)\n",
    "    quick_sort(array,right+1,end)\n",
    "    \n",
    "quick_sort(array,0,len(array)-1)\n",
    "print(array)"
   ]
  },
  {
   "cell_type": "markdown",
   "id": "c7e577b7",
   "metadata": {},
   "source": [
    "아래의 방식은 파이썬 이용하여 더 간단하게 만들기"
   ]
  },
  {
   "cell_type": "code",
   "execution_count": 2,
   "id": "2ff6a875",
   "metadata": {},
   "outputs": [
    {
     "name": "stdout",
     "output_type": "stream",
     "text": [
      "[0, 1, 2, 3, 4, 5, 6, 7, 8, 9]\n"
     ]
    }
   ],
   "source": [
    "array = [5,7,9,0,3,1,6,2,4,8]\n",
    "\n",
    "def quick_sort2(array):\n",
    "    if len(array) <= 1:\n",
    "        return array\n",
    "    \n",
    "    pivot = array[0]\n",
    "    tail = array[1:] # 피벗 제외한 리스트\n",
    "    \n",
    "    left_side = [x for x in tail if x<=pivot]\n",
    "    right_side = [x for x in tail if x>pivot]\n",
    "    \n",
    "    return quick_sort2(left_side) + [pivot] + quick_sort2(right_side)\n",
    "print(quick_sort2(array))"
   ]
  },
  {
   "cell_type": "markdown",
   "id": "870c57df",
   "metadata": {},
   "source": [
    "## 계수 정렬"
   ]
  },
  {
   "cell_type": "markdown",
   "id": "acdb0434",
   "metadata": {},
   "source": [
    "데이터의 크기 범위가 제한되어 정수 형태로 표현할 수 있을 때만 사용가능한 정렬"
   ]
  },
  {
   "cell_type": "code",
   "execution_count": 3,
   "id": "e3d4edf0",
   "metadata": {},
   "outputs": [
    {
     "name": "stdout",
     "output_type": "stream",
     "text": [
      "0 0 1 1 2 2 3 4 5 5 6 7 8 9 9 "
     ]
    }
   ],
   "source": [
    "array = [7,5,9,0,3,1,6,2,9,1,4,8,0,5,2]\n",
    "\n",
    "# 모든 범위를 포함하는 리스트 선언\n",
    "count = [0]* (max(array)+1)\n",
    "\n",
    "# 각 데이터에 해당하는 인덱스 값 증가\n",
    "for i in range(len(array)):\n",
    "    count[array[i]] +=1\n",
    "\n",
    "# 출력\n",
    "for i in range(len(count)):\n",
    "    for j in range(count[i]):\n",
    "        print(i, end = ' ')"
   ]
  },
  {
   "cell_type": "markdown",
   "id": "452b50cf",
   "metadata": {},
   "source": [
    "## 2. 위에서 아래로"
   ]
  },
  {
   "cell_type": "markdown",
   "id": "74866d43",
   "metadata": {},
   "source": [
    "하나의 수열에는 다양한 수가 존재한다. 이러한 수는 크기에 상관없이 나열되어 있다. 이 수를 큰 수부터 작은 수의 순서로 정렬해야 한다. 수열을 내림차순으로 정렬하는 프로그램을 만드시오"
   ]
  },
  {
   "cell_type": "code",
   "execution_count": 6,
   "id": "ba0a9551",
   "metadata": {},
   "outputs": [
    {
     "name": "stdout",
     "output_type": "stream",
     "text": [
      "3\n",
      "15\n",
      "27\n",
      "12\n"
     ]
    }
   ],
   "source": [
    "n = int(input())\n",
    "a = []\n",
    "for _ in range(n):\n",
    "    a.append(int(input()))"
   ]
  },
  {
   "cell_type": "code",
   "execution_count": 7,
   "id": "6b75589c",
   "metadata": {},
   "outputs": [
    {
     "data": {
      "text/plain": [
       "[15, 27, 12]"
      ]
     },
     "execution_count": 7,
     "metadata": {},
     "output_type": "execute_result"
    }
   ],
   "source": [
    "a"
   ]
  },
  {
   "cell_type": "code",
   "execution_count": 10,
   "id": "dcf52e6a",
   "metadata": {},
   "outputs": [
    {
     "name": "stdout",
     "output_type": "stream",
     "text": [
      "27 15 12 "
     ]
    }
   ],
   "source": [
    "array = sorted(a,reverse=True)\n",
    "for i in array:\n",
    "    print(i, end=' ')"
   ]
  },
  {
   "cell_type": "markdown",
   "id": "df22c4d3",
   "metadata": {},
   "source": [
    "## 3. 성적이 낮은 순서로 학생 출력하기"
   ]
  },
  {
   "cell_type": "markdown",
   "id": "10bf6d4d",
   "metadata": {},
   "source": [
    "N명의 학생 정보가 있다. 학생 정보는 학생의 이름과 학생의 성적으로 구분된다. 각 학생의 이름과 성적 정보가 주어져쓸 때, 성적이 낮은 순서대로 학생의 이름을 출력하는 프로그램을 작성하시오"
   ]
  },
  {
   "cell_type": "code",
   "execution_count": 39,
   "id": "c6f9fef9",
   "metadata": {},
   "outputs": [
    {
     "name": "stdout",
     "output_type": "stream",
     "text": [
      "2\n",
      "홍길동 95\n",
      "이순신 77\n"
     ]
    }
   ],
   "source": [
    "n = int(input())\n",
    "grade=[]\n",
    "for _ in range(n):\n",
    "    a,b = input().split()\n",
    "    grade.append((a,int(b)))"
   ]
  },
  {
   "cell_type": "code",
   "execution_count": 40,
   "id": "b6c5e923",
   "metadata": {},
   "outputs": [
    {
     "data": {
      "text/plain": [
       "[('홍길동', 95), ('이순신', 77)]"
      ]
     },
     "execution_count": 40,
     "metadata": {},
     "output_type": "execute_result"
    }
   ],
   "source": [
    "grade"
   ]
  },
  {
   "cell_type": "code",
   "execution_count": 43,
   "id": "aff1e19e",
   "metadata": {},
   "outputs": [
    {
     "data": {
      "text/plain": [
       "[('이순신', 77), ('홍길동', 95)]"
      ]
     },
     "execution_count": 43,
     "metadata": {},
     "output_type": "execute_result"
    }
   ],
   "source": [
    "grade_sort = sorted(grade,key= lambda data:data[1])\n",
    "grade_sort"
   ]
  },
  {
   "cell_type": "code",
   "execution_count": 44,
   "id": "217cd0db",
   "metadata": {},
   "outputs": [
    {
     "name": "stdout",
     "output_type": "stream",
     "text": [
      "이순신 홍길동 "
     ]
    }
   ],
   "source": [
    "for i,j in grade_sort:\n",
    "    print(i, end= \" \")"
   ]
  },
  {
   "cell_type": "markdown",
   "id": "5edc236e",
   "metadata": {},
   "source": [
    "## 4. 두 배열의 원소 교체"
   ]
  },
  {
   "cell_type": "code",
   "execution_count": 47,
   "id": "7aa2901f",
   "metadata": {},
   "outputs": [
    {
     "name": "stdout",
     "output_type": "stream",
     "text": [
      "5 3\n",
      "1 2 5 4 3\n",
      "5 5 6 6 5\n"
     ]
    }
   ],
   "source": [
    "n, k = map(int,input().split())\n",
    "a = list(map(int,input().split()))\n",
    "b = list(map(int,input().split()))"
   ]
  },
  {
   "cell_type": "code",
   "execution_count": 55,
   "id": "ba3c932a",
   "metadata": {},
   "outputs": [],
   "source": [
    "def arr(a,b):\n",
    "    a = sorted(a)\n",
    "    b = sorted(b,reverse=True)\n",
    "    \n",
    "    for i in range(k):\n",
    "        if a[i]< b[i]:\n",
    "            a[i],b[i] = b[i],a[i]\n",
    "        else:\n",
    "            break\n",
    "    return a"
   ]
  },
  {
   "cell_type": "code",
   "execution_count": 56,
   "id": "921ca9c0",
   "metadata": {},
   "outputs": [
    {
     "data": {
      "text/plain": [
       "[6, 6, 5, 4, 5]"
      ]
     },
     "execution_count": 56,
     "metadata": {},
     "output_type": "execute_result"
    }
   ],
   "source": [
    "arr(a,b)"
   ]
  },
  {
   "cell_type": "code",
   "execution_count": 57,
   "id": "8456fd05",
   "metadata": {},
   "outputs": [
    {
     "name": "stdout",
     "output_type": "stream",
     "text": [
      "26\n"
     ]
    }
   ],
   "source": [
    "print(sum(arr(a,b)))"
   ]
  }
 ],
 "metadata": {
  "kernelspec": {
   "display_name": "Python 3 (ipykernel)",
   "language": "python",
   "name": "python3"
  },
  "language_info": {
   "codemirror_mode": {
    "name": "ipython",
    "version": 3
   },
   "file_extension": ".py",
   "mimetype": "text/x-python",
   "name": "python",
   "nbconvert_exporter": "python",
   "pygments_lexer": "ipython3",
   "version": "3.9.6"
  }
 },
 "nbformat": 4,
 "nbformat_minor": 5
}
