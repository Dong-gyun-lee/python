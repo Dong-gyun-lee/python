{
 "cells": [
  {
   "cell_type": "markdown",
   "id": "585eeab4",
   "metadata": {},
   "source": [
    "## 01. 모험가 길드"
   ]
  },
  {
   "cell_type": "markdown",
   "id": "b06e5dee",
   "metadata": {},
   "source": [
    "(1) 내 답 : 각 원소의 count 셈"
   ]
  },
  {
   "cell_type": "code",
   "execution_count": 3,
   "id": "6494d592",
   "metadata": {},
   "outputs": [
    {
     "name": "stdout",
     "output_type": "stream",
     "text": [
      "10\n",
      "1 1 2 2 2 3 3 3 3 3\n",
      "5\n"
     ]
    }
   ],
   "source": [
    "n = int(input())\n",
    "array = list(map(int,input().split()))\n",
    "\n",
    "c1 = array.count(1)    \n",
    "c2 = array.count(2)\n",
    "c3 = array.count(3)\n",
    "\n",
    "if c2%2 == 1 and c3%3 == 2 :\n",
    "    print(c1 + c2//2 + c3//3 + 1)\n",
    "else:\n",
    "    print(c1 + c2//2 + c3//3)"
   ]
  },
  {
   "cell_type": "markdown",
   "id": "448eb4de",
   "metadata": {},
   "source": [
    "(2) 책 정답"
   ]
  },
  {
   "cell_type": "code",
   "execution_count": 62,
   "id": "1acc9a5f",
   "metadata": {},
   "outputs": [
    {
     "name": "stdout",
     "output_type": "stream",
     "text": [
      "10\n",
      "1 1 2 2 2 3 3 3 3 3\n",
      "5\n"
     ]
    }
   ],
   "source": [
    "n = int(input())\n",
    "data = list(map(int,input().split()))\n",
    "data.sort()\n",
    "\n",
    "result = 0\n",
    "count = 0 \n",
    "\n",
    "for i in data:\n",
    "    count += 1\n",
    "    if count >= i:\n",
    "        result += 1\n",
    "        count = 0\n",
    "print(result)"
   ]
  },
  {
   "cell_type": "markdown",
   "id": "090a4d7a",
   "metadata": {},
   "source": [
    "## 02.  곱하기 혹은 더하기"
   ]
  },
  {
   "cell_type": "markdown",
   "id": "d0731c49",
   "metadata": {},
   "source": [
    "(1) 내 답 : 문제에서는 오답이다. 기본적인 사칙연산 구조를 가지고 풀었음"
   ]
  },
  {
   "cell_type": "code",
   "execution_count": 65,
   "id": "c90e8fd0",
   "metadata": {},
   "outputs": [
    {
     "name": "stdout",
     "output_type": "stream",
     "text": [
      "01212\n",
      "6\n"
     ]
    }
   ],
   "source": [
    "n = input()\n",
    "array = list(n)\n",
    "p = '*'.join(array)\n",
    "p = list(p)\n",
    "for i in range(2,len(p),2):\n",
    "    if p[i] == '0' or p[i] == '1':\n",
    "        p[i-1] = '+'\n",
    "        p[i+1] = '+'\n",
    "        \n",
    "if p[0] == '0' or p[0] == '1':\n",
    "    p[1] = '+'\n",
    "\n",
    "result = ''.join(p)\n",
    "print(eval(result))"
   ]
  },
  {
   "cell_type": "code",
   "execution_count": 66,
   "id": "90fc97d8",
   "metadata": {},
   "outputs": [
    {
     "data": {
      "text/plain": [
       "'0+1+2+1+2'"
      ]
     },
     "execution_count": 66,
     "metadata": {},
     "output_type": "execute_result"
    }
   ],
   "source": [
    "result"
   ]
  },
  {
   "cell_type": "markdown",
   "id": "112e3bc5",
   "metadata": {},
   "source": [
    "(2) 책 답 : 왼쪽에서부터 차례대로 계산된다고 생각해야함"
   ]
  },
  {
   "cell_type": "code",
   "execution_count": 68,
   "id": "b77dcfd5",
   "metadata": {},
   "outputs": [
    {
     "name": "stdout",
     "output_type": "stream",
     "text": [
      "01212\n",
      "8\n"
     ]
    }
   ],
   "source": [
    "data = input()\n",
    "result = int(data[0])\n",
    "\n",
    "for i in range(1,len(data)):\n",
    "    num = int(data[i])\n",
    "    if num<=1 or result <=1:\n",
    "        result += num\n",
    "    else :\n",
    "        result *= num\n",
    "print(result)"
   ]
  },
  {
   "cell_type": "markdown",
   "id": "7d4b7d11",
   "metadata": {},
   "source": [
    "## 03. 문자열 뒤집기"
   ]
  },
  {
   "cell_type": "markdown",
   "id": "2519ef60",
   "metadata": {},
   "source": [
    "(1) 내 답 : 규칙을 찾아 해결하려고 함. 숫자가 바뀌는 구역의 수가 2의 배수이면 2로 나눈 값만큼 바꾸고, 숫자가 바뀌는 구역의 수가 2의 배수가 아니면 2로 나눈 몫의 +1을 해준다."
   ]
  },
  {
   "cell_type": "markdown",
   "id": "cdda876a",
   "metadata": {},
   "source": [
    "000/111 - 1 <br>\n",
    "000/11/00 - 1 <br>\n",
    "000/111/000/11 - 2 <br>\n",
    "00/11/00/11/00- 2 "
   ]
  },
  {
   "cell_type": "code",
   "execution_count": 36,
   "id": "202994f4",
   "metadata": {},
   "outputs": [
    {
     "name": "stdout",
     "output_type": "stream",
     "text": [
      "00110011001100\n",
      "3\n"
     ]
    }
   ],
   "source": [
    "string = input()\n",
    "\n",
    "count = 0\n",
    "for i in range(1,len(string)):\n",
    "    if string[i] != string[i-1]:\n",
    "        count += 1\n",
    "\n",
    "if count % 2 ==0:\n",
    "    result = count//2\n",
    "else:\n",
    "    result = count//2 + 1\n",
    "\n",
    "print(result)"
   ]
  },
  {
   "cell_type": "markdown",
   "id": "121bfb0a",
   "metadata": {},
   "source": [
    "(2) 책 답 : 전부 0으로 바꾸는 경우와 전부 1로 바꾸는 경우 중 더 적은 횟수를 가지는 경우 계산"
   ]
  },
  {
   "cell_type": "code",
   "execution_count": 70,
   "id": "88535725",
   "metadata": {},
   "outputs": [
    {
     "name": "stdout",
     "output_type": "stream",
     "text": [
      "00110011001100\n",
      "3\n"
     ]
    }
   ],
   "source": [
    "data = input()\n",
    "\n",
    "count0 = 0 # 전부 0으로 바꾸는 경우\n",
    "count1 = 0 # 전부 1로 바꾸는 경우\n",
    "\n",
    "if data[0] == '1':\n",
    "    count0 += 1\n",
    "else:\n",
    "    count1 +=1\n",
    "    \n",
    "for i in range(len(data)-1):\n",
    "    if data[i] != data[i+1]:\n",
    "        if data[i+1] == '1':\n",
    "            count0 += 1\n",
    "        else:\n",
    "            count1 += 1\n",
    "\n",
    "print(min(count0,count1))"
   ]
  },
  {
   "cell_type": "markdown",
   "id": "9af2ed3f",
   "metadata": {},
   "source": [
    "## 04. 만들수 없는 금액"
   ]
  },
  {
   "cell_type": "markdown",
   "id": "e2e4ca51",
   "metadata": {},
   "source": [
    "(1) 내 답: 모든 조합을 만들어서 그 값을 계산하여 list로 도출함"
   ]
  },
  {
   "cell_type": "code",
   "execution_count": 44,
   "id": "83d74885",
   "metadata": {},
   "outputs": [
    {
     "name": "stdout",
     "output_type": "stream",
     "text": [
      "5\n",
      "3 2 1 1 9\n"
     ]
    }
   ],
   "source": [
    "n = int(input())\n",
    "items = list(map(int,input().split()))"
   ]
  },
  {
   "cell_type": "code",
   "execution_count": 52,
   "id": "26fe8242",
   "metadata": {},
   "outputs": [
    {
     "data": {
      "text/plain": [
       "[(3,),\n",
       " (2,),\n",
       " (1,),\n",
       " (1,),\n",
       " (9,),\n",
       " (3, 2),\n",
       " (3, 1),\n",
       " (3, 1),\n",
       " (3, 9),\n",
       " (2, 1),\n",
       " (2, 1),\n",
       " (2, 9),\n",
       " (1, 1),\n",
       " (1, 9),\n",
       " (1, 9),\n",
       " (3, 2, 1),\n",
       " (3, 2, 1),\n",
       " (3, 2, 9),\n",
       " (3, 1, 1),\n",
       " (3, 1, 9),\n",
       " (3, 1, 9),\n",
       " (2, 1, 1),\n",
       " (2, 1, 9),\n",
       " (2, 1, 9),\n",
       " (1, 1, 9),\n",
       " (3, 2, 1, 1),\n",
       " (3, 2, 1, 9),\n",
       " (3, 2, 1, 9),\n",
       " (3, 1, 1, 9),\n",
       " (2, 1, 1, 9),\n",
       " (3, 2, 1, 1, 9)]"
      ]
     },
     "execution_count": 52,
     "metadata": {},
     "output_type": "execute_result"
    }
   ],
   "source": [
    "from itertools import combinations \n",
    "\n",
    "com = []\n",
    "for i in range(1,len(items)+1):\n",
    "    com.extend(list(combinations(items,i)))\n",
    "com"
   ]
  },
  {
   "cell_type": "code",
   "execution_count": 53,
   "id": "db195069",
   "metadata": {},
   "outputs": [
    {
     "data": {
      "text/plain": [
       "[1, 2, 3, 4, 5, 6, 7, 9, 10, 11, 12, 13, 14, 15, 16]"
      ]
     },
     "execution_count": 53,
     "metadata": {},
     "output_type": "execute_result"
    }
   ],
   "source": [
    "item_comb = list(set([sum(i) for i in com]))\n",
    "item_comb"
   ]
  },
  {
   "cell_type": "code",
   "execution_count": 54,
   "id": "9cd477db",
   "metadata": {},
   "outputs": [
    {
     "name": "stdout",
     "output_type": "stream",
     "text": [
      "8\n"
     ]
    }
   ],
   "source": [
    "i = 1\n",
    "while True:\n",
    "    if i not in item_comb:\n",
    "        break\n",
    "    else:\n",
    "        i +=1\n",
    "print(i)"
   ]
  },
  {
   "cell_type": "markdown",
   "id": "cd7a43a4",
   "metadata": {},
   "source": [
    "(2) 책 정답 : 현재 상태를 1부터 target-1까지의 모든 금액을 만들 수 있는 상태로 계속 업데이트"
   ]
  },
  {
   "cell_type": "code",
   "execution_count": 71,
   "id": "3d29748b",
   "metadata": {},
   "outputs": [
    {
     "name": "stdout",
     "output_type": "stream",
     "text": [
      "5\n",
      "3 2 1 1 9\n",
      "8\n"
     ]
    }
   ],
   "source": [
    "n = int(input())\n",
    "\n",
    "data = list(map(int,input().split()))\n",
    "data.sort()\n",
    "\n",
    "target = 1\n",
    "for x in data:\n",
    "    if target < x:\n",
    "        break\n",
    "    target += x\n",
    "    \n",
    "print(target)"
   ]
  },
  {
   "cell_type": "markdown",
   "id": "1565e74a",
   "metadata": {},
   "source": [
    "## 5. 볼링공 고르기"
   ]
  },
  {
   "cell_type": "markdown",
   "id": "e6867aed",
   "metadata": {},
   "source": [
    "(1) 내 답: combination 함수 사용해서 직접 다 구해줌"
   ]
  },
  {
   "cell_type": "code",
   "execution_count": 61,
   "id": "5cf28fcb",
   "metadata": {},
   "outputs": [
    {
     "name": "stdout",
     "output_type": "stream",
     "text": [
      "8 5\n",
      "1 5 4 3 2 4 5 2\n",
      "25\n"
     ]
    }
   ],
   "source": [
    "n,m = map(int,input().split())\n",
    "ball = list(map(int,input().split()))\n",
    "\n",
    "from itertools import combinations\n",
    "result = list(combinations(ball,2))\n",
    "results = [i for i in result if i[0]!=i[1]]\n",
    "print(len(results))"
   ]
  },
  {
   "cell_type": "markdown",
   "id": "b19758e4",
   "metadata": {},
   "source": [
    "(2)책 정답: 조합의 개수만 구해주는 방식"
   ]
  },
  {
   "cell_type": "code",
   "execution_count": 72,
   "id": "a53ed4ea",
   "metadata": {},
   "outputs": [
    {
     "name": "stdout",
     "output_type": "stream",
     "text": [
      "8 5\n",
      "1 5 4 3 2 4 5 2\n",
      "25\n"
     ]
    }
   ],
   "source": [
    "n,m = map(int,input().split())\n",
    "data = list(map(int,input().split()))\n",
    "array = [0]*11\n",
    "\n",
    "for x in data:\n",
    "    array[x] += 1\n",
    "\n",
    "result = 0\n",
    "for i in range(1,m+1):\n",
    "    n -= array[i]\n",
    "    result += array[i]*n\n",
    "\n",
    "print(result)"
   ]
  }
 ],
 "metadata": {
  "kernelspec": {
   "display_name": "Python 3 (ipykernel)",
   "language": "python",
   "name": "python3"
  },
  "language_info": {
   "codemirror_mode": {
    "name": "ipython",
    "version": 3
   },
   "file_extension": ".py",
   "mimetype": "text/x-python",
   "name": "python",
   "nbconvert_exporter": "python",
   "pygments_lexer": "ipython3",
   "version": "3.9.6"
  }
 },
 "nbformat": 4,
 "nbformat_minor": 5
}
