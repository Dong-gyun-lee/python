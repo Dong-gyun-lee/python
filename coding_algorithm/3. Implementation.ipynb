{
 "cells": [
  {
   "cell_type": "markdown",
   "id": "9c8652c4",
   "metadata": {},
   "source": [
    "## 구현"
   ]
  },
  {
   "cell_type": "markdown",
   "id": "27396d08",
   "metadata": {},
   "source": [
    "### 1. 상하좌우"
   ]
  },
  {
   "cell_type": "code",
   "execution_count": 14,
   "id": "90f8f7e9",
   "metadata": {},
   "outputs": [],
   "source": [
    "import time"
   ]
  },
  {
   "cell_type": "code",
   "execution_count": 19,
   "id": "385df655",
   "metadata": {},
   "outputs": [
    {
     "name": "stdout",
     "output_type": "stream",
     "text": [
      "5\n",
      "R R R U D D\n"
     ]
    }
   ],
   "source": [
    "n = int(input())\n",
    "x,y = 1,1\n",
    "plans = input().split()"
   ]
  },
  {
   "cell_type": "code",
   "execution_count": 20,
   "id": "b41c7056",
   "metadata": {},
   "outputs": [
    {
     "name": "stdout",
     "output_type": "stream",
     "text": [
      "3 4\n",
      "time: 0.0\n"
     ]
    }
   ],
   "source": [
    "dx = [0,0,-1,1]\n",
    "dy = [-1,1,0,0]\n",
    "move_types = ['L','R','U','D']\n",
    "\n",
    "start_time = time.time()\n",
    "for plan in plans:\n",
    "    for i in range(len(move_types)):\n",
    "        if plan == move_types[i]:\n",
    "            nx = x + dx[i]\n",
    "            ny = y + dy[i]\n",
    "    if nx < 1 or ny <  1 or nx > n or ny > n:\n",
    "        continue\n",
    "    x,y= nx, ny\n",
    "\n",
    "print(x,y)\n",
    "end_time = time.time() # 측정 종료\n",
    "print(\"time:\", end_time - start_time)"
   ]
  },
  {
   "cell_type": "markdown",
   "id": "a8c55173",
   "metadata": {},
   "source": [
    "### 2. 시각"
   ]
  },
  {
   "cell_type": "code",
   "execution_count": 23,
   "id": "e3fbb69b",
   "metadata": {},
   "outputs": [
    {
     "name": "stdout",
     "output_type": "stream",
     "text": [
      "5\n",
      "11475\n",
      "time: 0.013960838317871094\n"
     ]
    }
   ],
   "source": [
    "n = int(input())\n",
    "start_time = time.time()\n",
    "\n",
    "count=0\n",
    "for i in range(n+1):\n",
    "    for j in range(60):\n",
    "        for k in range(60):\n",
    "            if '3' in str(i)+str(j)+str(k):\n",
    "                count +=1\n",
    "\n",
    "print(count)\n",
    "end_time = time.time() # 측정 종료\n",
    "print(\"time:\", end_time - start_time)"
   ]
  },
  {
   "cell_type": "markdown",
   "id": "5674211c",
   "metadata": {},
   "source": [
    "### 3. 왕실의 나이트"
   ]
  },
  {
   "cell_type": "code",
   "execution_count": 30,
   "id": "557ee596",
   "metadata": {},
   "outputs": [
    {
     "name": "stdout",
     "output_type": "stream",
     "text": [
      "c2\n"
     ]
    }
   ],
   "source": [
    "input_data = input()\n",
    "row = int(input_data[1])\n",
    "column = int(ord(input_data[0]))-int(ord('a')) +1 "
   ]
  },
  {
   "cell_type": "code",
   "execution_count": 31,
   "id": "757147b4",
   "metadata": {},
   "outputs": [
    {
     "name": "stdout",
     "output_type": "stream",
     "text": [
      "2\n",
      "3\n"
     ]
    }
   ],
   "source": [
    "print(row)\n",
    "print(column)"
   ]
  },
  {
   "cell_type": "code",
   "execution_count": 32,
   "id": "8c9b4d49",
   "metadata": {},
   "outputs": [
    {
     "name": "stdout",
     "output_type": "stream",
     "text": [
      "6\n",
      "time: 0.0009975433349609375\n"
     ]
    }
   ],
   "source": [
    "steps = [(-1,-2),(-1,2),(1,-2),(1,2),(-2,-1),(-2,1),(2,-1),(2,1)]\n",
    "start_time = time.time()\n",
    "result = 0\n",
    "for step in steps:\n",
    "    new_row = row + step[0]\n",
    "    new_col = column + step[1]\n",
    "    if new_row >= 1 and new_col >= 1 and new_row <= 8 and new_col <= 8:\n",
    "        result += 1\n",
    "print(result)\n",
    "\n",
    "end_time = time.time() # 측정 종료\n",
    "print(\"time:\", end_time - start_time)"
   ]
  },
  {
   "cell_type": "markdown",
   "id": "c510aaa7",
   "metadata": {},
   "source": [
    "### 4. 게임 개발"
   ]
  },
  {
   "cell_type": "code",
   "execution_count": 61,
   "id": "9179e8f8",
   "metadata": {},
   "outputs": [
    {
     "name": "stdout",
     "output_type": "stream",
     "text": [
      "4 4\n",
      "1 1 0\n",
      "1 1 1 1\n",
      "1 0 0 1\n",
      "1 1 0 1\n",
      "1 1 1 1\n"
     ]
    }
   ],
   "source": [
    "n, m = map(int,input().split())\n",
    "x, y ,direction = map(int,input().split())\n",
    "\n",
    "data = []\n",
    "for i in range(n):\n",
    "    data.append(list(map(int, input().split())))"
   ]
  },
  {
   "cell_type": "code",
   "execution_count": 67,
   "id": "62a641c4",
   "metadata": {},
   "outputs": [],
   "source": [
    "visit = [[0]*m for _ in range(n)] #인덱스가 필요하지 않을 때 _쓰임  "
   ]
  },
  {
   "cell_type": "code",
   "execution_count": 64,
   "id": "e1c5a126",
   "metadata": {},
   "outputs": [],
   "source": [
    "#북, 동, 남, 서 방향 설정\n",
    "dx = [-1,0,1,0] \n",
    "dy = [0,1,0,-1]\n",
    "\n",
    "def turn_left():\n",
    "    global direction # direction이 전역변수\n",
    "    direction -= 1\n",
    "    if direction == -1:\n",
    "        direction = 3"
   ]
  },
  {
   "cell_type": "code",
   "execution_count": 68,
   "id": "b6eba76d",
   "metadata": {},
   "outputs": [
    {
     "name": "stdout",
     "output_type": "stream",
     "text": [
      "3\n",
      "time: 0.0\n"
     ]
    }
   ],
   "source": [
    "count = 1\n",
    "turn_time = 0\n",
    "start_time = time.time()\n",
    "visit[x][y] = 1\n",
    "while True:\n",
    "    turn_left()\n",
    "    nx = x + dx[direction]\n",
    "    ny = y + dy[direction]\n",
    "    if visit[nx][ny] == 0 and data[nx][ny] == 0:\n",
    "        visit[nx][ny] = 1\n",
    "        x,y = nx ,ny\n",
    "        count += 1\n",
    "        turn_time = 0\n",
    "        continue\n",
    "    else:\n",
    "        turn_time += 1\n",
    "        \n",
    "    if turn_time == 4:\n",
    "        nx = x - dx[direction]\n",
    "        ny = y - dy[direction]\n",
    "        if data[nx][ny] == 0:\n",
    "            x, y = nx, ny\n",
    "        else:\n",
    "            break\n",
    "        turn_time = 0\n",
    "print(count)\n",
    "end_time = time.time()\n",
    "print(\"time:\", end_time - start_time)"
   ]
  }
 ],
 "metadata": {
  "kernelspec": {
   "display_name": "Python 3 (ipykernel)",
   "language": "python",
   "name": "python3"
  },
  "language_info": {
   "codemirror_mode": {
    "name": "ipython",
    "version": 3
   },
   "file_extension": ".py",
   "mimetype": "text/x-python",
   "name": "python",
   "nbconvert_exporter": "python",
   "pygments_lexer": "ipython3",
   "version": "3.9.6"
  }
 },
 "nbformat": 4,
 "nbformat_minor": 5
}
