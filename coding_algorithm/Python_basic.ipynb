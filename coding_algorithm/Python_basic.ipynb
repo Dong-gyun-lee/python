{
 "cells": [
  {
   "cell_type": "markdown",
   "id": "fc00f8ef",
   "metadata": {},
   "source": [
    "## List comprehension"
   ]
  },
  {
   "cell_type": "markdown",
   "id": "998d5b15",
   "metadata": {},
   "source": [
    "리스트에 조건문과 반복문을 넣는 방식으로 리스트를 초기화 하는 방식"
   ]
  },
  {
   "cell_type": "code",
   "execution_count": 1,
   "id": "fe75f2f5",
   "metadata": {},
   "outputs": [
    {
     "data": {
      "text/plain": [
       "[1, 3, 5, 7, 9, 11, 13, 15, 17, 19]"
      ]
     },
     "execution_count": 1,
     "metadata": {},
     "output_type": "execute_result"
    }
   ],
   "source": [
    "list_comp = [i for i in range(20) if i % 2 == 1]\n",
    "list_comp"
   ]
  },
  {
   "cell_type": "code",
   "execution_count": 2,
   "id": "6f87e635",
   "metadata": {},
   "outputs": [
    {
     "name": "stdout",
     "output_type": "stream",
     "text": [
      "[1, 4, 9, 16, 25, 36, 49, 64, 81]\n",
      "[1, 4, 9, 16, 25, 36, 49, 64, 81]\n"
     ]
    }
   ],
   "source": [
    "list_comp2 = [i*i for i in range(1,10)]\n",
    "list_comp3 = [i**2 for i in range(1,10)]\n",
    "print(list_comp2)\n",
    "print(list_comp3)"
   ]
  },
  {
   "cell_type": "code",
   "execution_count": 3,
   "id": "266bc70e",
   "metadata": {},
   "outputs": [
    {
     "name": "stdout",
     "output_type": "stream",
     "text": [
      "[0, 0, 0, 0]\n",
      "[[0, 0, 0, 0], [0, 0, 0, 0], [0, 0, 0, 0]]\n",
      "3\n",
      "[0, 0, 0, 0]\n"
     ]
    }
   ],
   "source": [
    "n = 3\n",
    "m = 4\n",
    "list_comp = [[0]*m for _ in range(n)]\n",
    "print([0]*m)\n",
    "print(list_comp)\n",
    "print(len(list_comp))\n",
    "print(list_comp[0])"
   ]
  },
  {
   "cell_type": "code",
   "execution_count": 4,
   "id": "24096643",
   "metadata": {},
   "outputs": [
    {
     "data": {
      "text/plain": [
       "[[0, 5, 0, 0], [0, 0, 0, 0], [0, 0, 0, 0]]"
      ]
     },
     "execution_count": 4,
     "metadata": {},
     "output_type": "execute_result"
    }
   ],
   "source": [
    "list_comp[0][1] = 5\n",
    "list_comp"
   ]
  },
  {
   "cell_type": "markdown",
   "id": "051a8810",
   "metadata": {},
   "source": [
    "#### 잘못된 리스트 초기화 방법"
   ]
  },
  {
   "cell_type": "code",
   "execution_count": 5,
   "id": "269a6cc7",
   "metadata": {},
   "outputs": [
    {
     "name": "stdout",
     "output_type": "stream",
     "text": [
      "[[0, 0, 0, 0], [0, 0, 0, 0], [0, 0, 0, 0]]\n",
      "3\n",
      "[[0, 5, 0, 0], [0, 5, 0, 0], [0, 5, 0, 0]]\n"
     ]
    }
   ],
   "source": [
    "n = 3\n",
    "m = 4\n",
    "list_not = [[0]*m]*n\n",
    "print(list_not)\n",
    "print(len(list_not))\n",
    "\n",
    "list_not[0][1]=5 # 잘못된 방향으로 바뀜 \n",
    "print(list_not) "
   ]
  },
  {
   "cell_type": "markdown",
   "id": "b9b890c5",
   "metadata": {},
   "source": [
    "내부의 리스트를 모두 동일한 객체에 대한 레퍼런스로 인식해서 위와 같은 결과 발생"
   ]
  },
  {
   "cell_type": "markdown",
   "id": "3e0ef0a6",
   "metadata": {},
   "source": [
    "## 리스트 관련 방법들"
   ]
  },
  {
   "cell_type": "code",
   "execution_count": 6,
   "id": "23cac796",
   "metadata": {},
   "outputs": [
    {
     "name": "stdout",
     "output_type": "stream",
     "text": [
      "basic_list: [1, 2, 3, 4]\n"
     ]
    }
   ],
   "source": [
    "a = [1,2,3,4]\n",
    "print('basic_list:',a)"
   ]
  },
  {
   "cell_type": "code",
   "execution_count": 7,
   "id": "b721c43b",
   "metadata": {},
   "outputs": [
    {
     "name": "stdout",
     "output_type": "stream",
     "text": [
      "plus: [1, 2, 3, 4, 2]\n"
     ]
    }
   ],
   "source": [
    "a.append(2)\n",
    "print('plus:',a)"
   ]
  },
  {
   "cell_type": "code",
   "execution_count": 8,
   "id": "b5311025",
   "metadata": {},
   "outputs": [
    {
     "name": "stdout",
     "output_type": "stream",
     "text": [
      "오름차순: [1, 2, 2, 3, 4]\n"
     ]
    }
   ],
   "source": [
    "a.sort()\n",
    "print('오름차순:',a)"
   ]
  },
  {
   "cell_type": "code",
   "execution_count": 9,
   "id": "37cfadd2",
   "metadata": {},
   "outputs": [
    {
     "name": "stdout",
     "output_type": "stream",
     "text": [
      "내림차순: [4, 3, 2, 2, 1]\n"
     ]
    }
   ],
   "source": [
    "a.sort(reverse=True)\n",
    "print('내림차순:',a)"
   ]
  },
  {
   "cell_type": "code",
   "execution_count": 10,
   "id": "7f66c086",
   "metadata": {},
   "outputs": [
    {
     "name": "stdout",
     "output_type": "stream",
     "text": [
      "리버스: [1, 2, 2, 3, 4]\n"
     ]
    }
   ],
   "source": [
    "a.reverse()\n",
    "print('리버스:',a)"
   ]
  },
  {
   "cell_type": "code",
   "execution_count": 11,
   "id": "291e21c2",
   "metadata": {},
   "outputs": [
    {
     "name": "stdout",
     "output_type": "stream",
     "text": [
      "인덱스 1에 5 추가: [1, 5, 2, 2, 3, 4]\n"
     ]
    }
   ],
   "source": [
    "a.insert(1,5)\n",
    "print('인덱스 1에 5 추가:',a)"
   ]
  },
  {
   "cell_type": "code",
   "execution_count": 12,
   "id": "52ad72d6",
   "metadata": {},
   "outputs": [
    {
     "name": "stdout",
     "output_type": "stream",
     "text": [
      "값이 2인 데이터 개수: 2\n"
     ]
    }
   ],
   "source": [
    "print('값이 2인 데이터 개수:',a.count(2))"
   ]
  },
  {
   "cell_type": "code",
   "execution_count": 13,
   "id": "70ddc532",
   "metadata": {},
   "outputs": [
    {
     "name": "stdout",
     "output_type": "stream",
     "text": [
      "값이 2인 데이터 하나씩 제거: [1, 5, 2, 3, 4]\n",
      "값이 2인 데이터 하나씩 제거: [1, 5, 3, 4]\n"
     ]
    }
   ],
   "source": [
    "a.remove(2)\n",
    "print('값이 2인 데이터 하나씩 제거:',a)\n",
    "a.remove(2)\n",
    "print('값이 2인 데이터 하나씩 제거:',a)"
   ]
  },
  {
   "cell_type": "code",
   "execution_count": 14,
   "id": "ddfcbb4a",
   "metadata": {},
   "outputs": [
    {
     "name": "stdout",
     "output_type": "stream",
     "text": [
      "[1, 2, 3, 6, 7, 8]\n"
     ]
    }
   ],
   "source": [
    "# 특정한 값의 원소 모두 한번에 제거하는 방법\n",
    "a = [1,2,3,4,5,6,7,8,4,5]\n",
    "remove_set = {4,5}\n",
    "\n",
    "result = [i for i in a if i not in remove_set]\n",
    "print(result)"
   ]
  },
  {
   "cell_type": "markdown",
   "id": "d0ca2877",
   "metadata": {},
   "source": [
    "## 문자열 자료형"
   ]
  },
  {
   "cell_type": "code",
   "execution_count": 15,
   "id": "c7e3d304",
   "metadata": {},
   "outputs": [
    {
     "name": "stdout",
     "output_type": "stream",
     "text": [
      "Don't you know \"Python\"?\n"
     ]
    }
   ],
   "source": [
    "data = \"Don't you know \\\"Python\\\"?\"\n",
    "print(data)"
   ]
  },
  {
   "cell_type": "code",
   "execution_count": 16,
   "id": "b7579a5d",
   "metadata": {},
   "outputs": [
    {
     "name": "stdout",
     "output_type": "stream",
     "text": [
      "Lee Kim\n",
      "LeeLeeLee\n",
      "Le\n"
     ]
    }
   ],
   "source": [
    "a = 'Lee'\n",
    "b = 'Kim'\n",
    "print(a +\" \" + b)\n",
    "print(a*3)\n",
    "print(a[0:2])"
   ]
  },
  {
   "cell_type": "markdown",
   "id": "a5560dc6",
   "metadata": {},
   "source": [
    "## 튜플 자료형"
   ]
  },
  {
   "cell_type": "markdown",
   "id": "52af9abc",
   "metadata": {},
   "source": [
    "튜플은 한 번 선언된 값 변경 불가능"
   ]
  },
  {
   "cell_type": "code",
   "execution_count": 17,
   "id": "5cc8b9f6",
   "metadata": {},
   "outputs": [
    {
     "name": "stdout",
     "output_type": "stream",
     "text": [
      "(1, 2, 3, 4)\n"
     ]
    },
    {
     "ename": "TypeError",
     "evalue": "'tuple' object does not support item assignment",
     "output_type": "error",
     "traceback": [
      "\u001b[1;31m---------------------------------------------------------------------------\u001b[0m",
      "\u001b[1;31mTypeError\u001b[0m                                 Traceback (most recent call last)",
      "\u001b[1;32m~\\AppData\\Local\\Temp/ipykernel_9868/1539920695.py\u001b[0m in \u001b[0;36m<module>\u001b[1;34m\u001b[0m\n\u001b[0;32m      2\u001b[0m \u001b[0mprint\u001b[0m\u001b[1;33m(\u001b[0m\u001b[0ma\u001b[0m\u001b[1;33m)\u001b[0m\u001b[1;33m\u001b[0m\u001b[1;33m\u001b[0m\u001b[0m\n\u001b[0;32m      3\u001b[0m \u001b[1;33m\u001b[0m\u001b[0m\n\u001b[1;32m----> 4\u001b[1;33m \u001b[0ma\u001b[0m\u001b[1;33m[\u001b[0m\u001b[1;36m2\u001b[0m\u001b[1;33m]\u001b[0m \u001b[1;33m=\u001b[0m \u001b[1;36m7\u001b[0m\u001b[1;33m\u001b[0m\u001b[1;33m\u001b[0m\u001b[0m\n\u001b[0m",
      "\u001b[1;31mTypeError\u001b[0m: 'tuple' object does not support item assignment"
     ]
    }
   ],
   "source": [
    "a = (1,2,3,4)\n",
    "print(a)\n",
    "\n",
    "a[2] = 7"
   ]
  },
  {
   "cell_type": "markdown",
   "id": "3bc636df",
   "metadata": {},
   "source": [
    "## 사전 자료형"
   ]
  },
  {
   "cell_type": "code",
   "execution_count": 18,
   "id": "87559c42",
   "metadata": {},
   "outputs": [
    {
     "name": "stdout",
     "output_type": "stream",
     "text": [
      "dict_keys(['사과', '바나나'])\n",
      "dict_values(['apple', 'banana'])\n",
      "apple\n",
      "banana\n"
     ]
    }
   ],
   "source": [
    "data = dict()\n",
    "data['사과'] = 'apple'\n",
    "data['바나나'] = 'banana'\n",
    "\n",
    "key_list = data.keys()\n",
    "value_list = data.values()\n",
    "print(key_list)\n",
    "print(value_list)\n",
    "\n",
    "for key in key_list:\n",
    "    print(data[key])"
   ]
  },
  {
   "cell_type": "markdown",
   "id": "0f460111",
   "metadata": {},
   "source": [
    "## 집합 자료형"
   ]
  },
  {
   "cell_type": "code",
   "execution_count": 19,
   "id": "c51ffc07",
   "metadata": {},
   "outputs": [
    {
     "name": "stdout",
     "output_type": "stream",
     "text": [
      "{1, 2, 3, 4, 5}\n",
      "{1, 2, 3, 4, 5}\n"
     ]
    }
   ],
   "source": [
    "data = set([1,2,3,4,4,5,5])\n",
    "print(data)\n",
    "data2 = {1,2,3,4,4,5}\n",
    "print(data2)"
   ]
  },
  {
   "cell_type": "code",
   "execution_count": 20,
   "id": "5a274805",
   "metadata": {},
   "outputs": [
    {
     "name": "stdout",
     "output_type": "stream",
     "text": [
      "{1, 2, 3, 4, 5, 6, 7}\n",
      "{3, 4, 5}\n",
      "{1, 2}\n"
     ]
    }
   ],
   "source": [
    "a = set([1,2,3,4,5])\n",
    "b = set([3,4,5,6,7])\n",
    "print(a|b) # 합집합\n",
    "print(a&b) # 교집합\n",
    "print(a-b) # 차집합"
   ]
  },
  {
   "cell_type": "code",
   "execution_count": 21,
   "id": "bcdc61f4",
   "metadata": {},
   "outputs": [
    {
     "name": "stdout",
     "output_type": "stream",
     "text": [
      "{1, 2, 3, 4, 5, 10}\n",
      "{1, 2, 3, 4, 5, 10, 15, 16}\n",
      "{1, 2, 4, 5, 10, 15, 16}\n"
     ]
    }
   ],
   "source": [
    "data = set([1,2,3,4,5])\n",
    "data.add(10)\n",
    "print(data)\n",
    "data.update([15,16])\n",
    "print(data)\n",
    "data.remove(3)\n",
    "print(data)"
   ]
  },
  {
   "cell_type": "markdown",
   "id": "11988473",
   "metadata": {},
   "source": [
    "## 조건문"
   ]
  },
  {
   "cell_type": "code",
   "execution_count": 22,
   "id": "6f12b92a",
   "metadata": {},
   "outputs": [
    {
     "name": "stdout",
     "output_type": "stream",
     "text": [
      "[3, 5]\n",
      "[4]\n",
      "[1, 2]\n"
     ]
    }
   ],
   "source": [
    "a = [1,2,3,4,5]\n",
    "remove_set1={3,5}\n",
    "remove_set2={4}\n",
    "\n",
    "remove1 = []\n",
    "remove2 = []\n",
    "result = []\n",
    "\n",
    "for i in a:\n",
    "    if i in remove_set1 :\n",
    "        remove1.append(i)\n",
    "    elif i in remove_set2 :\n",
    "        remove2.append(i)\n",
    "    else : \n",
    "        result.append(i)\n",
    "\n",
    "print(remove1)\n",
    "print(remove2)\n",
    "print(result)"
   ]
  },
  {
   "cell_type": "markdown",
   "id": "18ef4d64",
   "metadata": {},
   "source": [
    "## 반복문"
   ]
  },
  {
   "cell_type": "code",
   "execution_count": 23,
   "id": "5a67080f",
   "metadata": {},
   "outputs": [
    {
     "name": "stdout",
     "output_type": "stream",
     "text": [
      "45\n"
     ]
    }
   ],
   "source": [
    "i = 1\n",
    "result = 0\n",
    "\n",
    "while i<=9:\n",
    "    result += i\n",
    "    i += 1 \n",
    "print(result)"
   ]
  },
  {
   "cell_type": "code",
   "execution_count": 24,
   "id": "7bd5f524",
   "metadata": {},
   "outputs": [
    {
     "name": "stdout",
     "output_type": "stream",
     "text": [
      "45\n"
     ]
    }
   ],
   "source": [
    "result = 0\n",
    "for i in range(1,10):\n",
    "    result += i\n",
    "print(result)"
   ]
  },
  {
   "cell_type": "markdown",
   "id": "fe059401",
   "metadata": {},
   "source": [
    "## 입출력"
   ]
  },
  {
   "cell_type": "code",
   "execution_count": 25,
   "id": "67521e26",
   "metadata": {},
   "outputs": [
    {
     "name": "stdout",
     "output_type": "stream",
     "text": [
      "1 2 3 4 5\n"
     ]
    }
   ],
   "source": [
    "# 데이터를 공백으로 구분하여 입력\n",
    "data = list(map(int,input().split()))"
   ]
  },
  {
   "cell_type": "code",
   "execution_count": 26,
   "id": "8f097e93",
   "metadata": {},
   "outputs": [
    {
     "name": "stdout",
     "output_type": "stream",
     "text": [
      "[1, 2, 3, 4, 5]\n"
     ]
    }
   ],
   "source": [
    "print(data)"
   ]
  },
  {
   "cell_type": "code",
   "execution_count": 27,
   "id": "fcb027f5",
   "metadata": {},
   "outputs": [
    {
     "name": "stdout",
     "output_type": "stream",
     "text": [
      "3 4 5\n"
     ]
    }
   ],
   "source": [
    "n,m,k = map(int,input().split())"
   ]
  },
  {
   "cell_type": "code",
   "execution_count": 28,
   "id": "d7224f24",
   "metadata": {},
   "outputs": [
    {
     "name": "stdout",
     "output_type": "stream",
     "text": [
      "3 4 5\n"
     ]
    }
   ],
   "source": [
    "print(n,m,k)"
   ]
  },
  {
   "cell_type": "code",
   "execution_count": 29,
   "id": "56bf10e1",
   "metadata": {},
   "outputs": [
    {
     "data": {
      "text/plain": [
       "''"
      ]
     },
     "execution_count": 29,
     "metadata": {},
     "output_type": "execute_result"
    }
   ],
   "source": [
    "# 입력 개수가 많은 경우\n",
    "# jupyter에서는 입력이 안된다고 함.\n",
    "\n",
    "import sys\n",
    "sys.stdin.readline().rstrip()"
   ]
  },
  {
   "cell_type": "code",
   "execution_count": 30,
   "id": "f30e3ca4",
   "metadata": {},
   "outputs": [],
   "source": [
    "data = map(int,sys.stdin.readline().split())"
   ]
  },
  {
   "cell_type": "code",
   "execution_count": 31,
   "id": "e078d9f9",
   "metadata": {},
   "outputs": [
    {
     "ename": "TypeError",
     "evalue": "can only concatenate str (not \"int\") to str",
     "output_type": "error",
     "traceback": [
      "\u001b[1;31m---------------------------------------------------------------------------\u001b[0m",
      "\u001b[1;31mTypeError\u001b[0m                                 Traceback (most recent call last)",
      "\u001b[1;32m~\\AppData\\Local\\Temp/ipykernel_9868/2856520064.py\u001b[0m in \u001b[0;36m<module>\u001b[1;34m\u001b[0m\n\u001b[0;32m      1\u001b[0m \u001b[1;31m# 출력\u001b[0m\u001b[1;33m\u001b[0m\u001b[1;33m\u001b[0m\u001b[1;33m\u001b[0m\u001b[0m\n\u001b[0;32m      2\u001b[0m \u001b[0mresult\u001b[0m \u001b[1;33m=\u001b[0m \u001b[1;36m7\u001b[0m\u001b[1;33m\u001b[0m\u001b[1;33m\u001b[0m\u001b[0m\n\u001b[1;32m----> 3\u001b[1;33m \u001b[0mprint\u001b[0m\u001b[1;33m(\u001b[0m\u001b[1;34m'정답은 '\u001b[0m\u001b[1;33m+\u001b[0m\u001b[0mresult\u001b[0m\u001b[1;33m+\u001b[0m\u001b[1;34m'입니다.'\u001b[0m\u001b[1;33m)\u001b[0m\u001b[1;33m\u001b[0m\u001b[1;33m\u001b[0m\u001b[0m\n\u001b[0m",
      "\u001b[1;31mTypeError\u001b[0m: can only concatenate str (not \"int\") to str"
     ]
    }
   ],
   "source": [
    "# 출력\n",
    "result = 7\n",
    "print('정답은 '+result+'입니다.')"
   ]
  },
  {
   "cell_type": "code",
   "execution_count": 32,
   "id": "ccbcbeb7",
   "metadata": {},
   "outputs": [
    {
     "name": "stdout",
     "output_type": "stream",
     "text": [
      "정답은 7입니다.\n",
      "정답은  7 입니다.\n",
      "정답은 7입니다.\n"
     ]
    }
   ],
   "source": [
    "print('정답은 '+str(result)+'입니다.')\n",
    "print('정답은 ',result,'입니다.')\n",
    "print(f'정답은 {result}입니다.')"
   ]
  },
  {
   "cell_type": "markdown",
   "id": "c48f5666",
   "metadata": {},
   "source": [
    "## 주요 라이브버리의 문법"
   ]
  },
  {
   "cell_type": "markdown",
   "id": "b373e8be",
   "metadata": {},
   "source": [
    "### 1) 내장함수"
   ]
  },
  {
   "cell_type": "code",
   "execution_count": 33,
   "id": "1b8885b9",
   "metadata": {},
   "outputs": [
    {
     "name": "stdout",
     "output_type": "stream",
     "text": [
      "55 1 10\n"
     ]
    }
   ],
   "source": [
    "a = [1,2,3,4,5,6,7,8,9,10]\n",
    "\n",
    "result1 = sum(a)\n",
    "result2 = min(a)\n",
    "result3 = max(a)\n",
    "\n",
    "print(result1,result2,result3)"
   ]
  },
  {
   "cell_type": "code",
   "execution_count": 34,
   "id": "103e1172",
   "metadata": {},
   "outputs": [
    {
     "name": "stdout",
     "output_type": "stream",
     "text": [
      "56\n"
     ]
    }
   ],
   "source": [
    "# 문자열로 들어온 수식 결과를 반환해줌\n",
    "result = eval(\"(3+5)*7\")\n",
    "print(result)"
   ]
  },
  {
   "cell_type": "code",
   "execution_count": 35,
   "id": "32dfacbb",
   "metadata": {},
   "outputs": [
    {
     "name": "stdout",
     "output_type": "stream",
     "text": [
      "[1, 5, 6, 7, 10]\n",
      "[10, 7, 6, 5, 1]\n"
     ]
    }
   ],
   "source": [
    "print(sorted([10,1,5,6,7]))\n",
    "print(sorted([10,1,5,6,7],reverse=True))"
   ]
  },
  {
   "cell_type": "code",
   "execution_count": 36,
   "id": "80b05dbc",
   "metadata": {},
   "outputs": [
    {
     "name": "stdout",
     "output_type": "stream",
     "text": [
      "[('lee', 20), ('kim', 30), ('park', 40)]\n"
     ]
    }
   ],
   "source": [
    "result = sorted([('lee',20),('kim',30),('park',40)],key = lambda x: x[1])\n",
    "print(result)"
   ]
  },
  {
   "cell_type": "code",
   "execution_count": 37,
   "id": "1561b324",
   "metadata": {},
   "outputs": [
    {
     "name": "stdout",
     "output_type": "stream",
     "text": [
      "[('kim', 30), ('lee', 20), ('park', 40)]\n"
     ]
    }
   ],
   "source": [
    "result2 = sorted([('lee',20),('kim',30),('park',40)],key = lambda x: x[0])\n",
    "print(result2)"
   ]
  },
  {
   "cell_type": "code",
   "execution_count": 38,
   "id": "97eeae03",
   "metadata": {},
   "outputs": [
    {
     "name": "stdout",
     "output_type": "stream",
     "text": [
      "[1, 2, 3, 4, 5]\n"
     ]
    }
   ],
   "source": [
    "data = [5,4,3,2,1]\n",
    "data.sort()\n",
    "print(data)"
   ]
  },
  {
   "cell_type": "markdown",
   "id": "5c5b21d8",
   "metadata": {},
   "source": [
    "### 2) itertools"
   ]
  },
  {
   "cell_type": "code",
   "execution_count": 39,
   "id": "894f9580",
   "metadata": {},
   "outputs": [
    {
     "name": "stdout",
     "output_type": "stream",
     "text": [
      "[('A', 'B', 'C'), ('A', 'C', 'B'), ('B', 'A', 'C'), ('B', 'C', 'A'), ('C', 'A', 'B'), ('C', 'B', 'A')]\n"
     ]
    }
   ],
   "source": [
    "from itertools import permutations\n",
    "\n",
    "# 순열\n",
    "data = ['A','B','C']\n",
    "result = list(permutations(data,3))\n",
    "print(result)"
   ]
  },
  {
   "cell_type": "code",
   "execution_count": 40,
   "id": "f491b0da",
   "metadata": {},
   "outputs": [
    {
     "name": "stdout",
     "output_type": "stream",
     "text": [
      "[('A', 'B'), ('A', 'C'), ('B', 'C')]\n"
     ]
    }
   ],
   "source": [
    "from itertools import combinations\n",
    "\n",
    "# 조합\n",
    "data = ['A','B','C']\n",
    "result = list(combinations(data,2))\n",
    "print(result)"
   ]
  },
  {
   "cell_type": "code",
   "execution_count": 41,
   "id": "dea04beb",
   "metadata": {},
   "outputs": [
    {
     "name": "stdout",
     "output_type": "stream",
     "text": [
      "[('A', 'A'), ('A', 'B'), ('A', 'C'), ('B', 'A'), ('B', 'B'), ('B', 'C'), ('C', 'A'), ('C', 'B'), ('C', 'C')]\n"
     ]
    }
   ],
   "source": [
    "from itertools import product\n",
    "\n",
    "# 중복 가능한 순열\n",
    "data = ['A','B','C']\n",
    "result = list(product(data,repeat=2)) \n",
    "print(result)"
   ]
  },
  {
   "cell_type": "code",
   "execution_count": 42,
   "id": "afe4020f",
   "metadata": {},
   "outputs": [
    {
     "name": "stdout",
     "output_type": "stream",
     "text": [
      "[('A', 'A'), ('A', 'B'), ('A', 'C'), ('B', 'B'), ('B', 'C'), ('C', 'C')]\n"
     ]
    }
   ],
   "source": [
    "from itertools import combinations_with_replacement\n",
    "\n",
    "# 중복 가능한 조합\n",
    "data = ['A','B','C']\n",
    "result = list(combinations_with_replacement(data,2)) \n",
    "print(result)"
   ]
  },
  {
   "cell_type": "markdown",
   "id": "8c3a5392",
   "metadata": {},
   "source": [
    "### 3) heapq"
   ]
  },
  {
   "cell_type": "markdown",
   "id": "839ba9d3",
   "metadata": {},
   "source": [
    "우선순위 큐: 들어간 순서에 상관없이 우선순위가 높은 데이터가 먼저 나오는 것 <br>\n",
    "파이썬은 최소 힙으로 구성 되므로, 작은 원소가 우선 순위가 높다."
   ]
  },
  {
   "cell_type": "code",
   "execution_count": 43,
   "id": "71bbd216",
   "metadata": {},
   "outputs": [
    {
     "name": "stdout",
     "output_type": "stream",
     "text": [
      "[1, 2, 3, 4, 5, 6, 7, 8]\n"
     ]
    }
   ],
   "source": [
    "import heapq\n",
    "\n",
    "def heapsort(iterable):\n",
    "    h = []\n",
    "    result = []\n",
    "    \n",
    "    # 모든 원소를 차례대로 힙에 삽입\n",
    "    for value in iterable:\n",
    "        heapq.heappush(h,value)\n",
    "    \n",
    "    # 힙에 삽입된 모든 원소를 차례대로 꺼내어 담기\n",
    "    for _ in range(len(h)):\n",
    "        result.append(heapq.heappop(h))\n",
    "    return result\n",
    "\n",
    "result = heapsort([1,2,3,5,7,6,8,4])\n",
    "print(result)"
   ]
  },
  {
   "cell_type": "code",
   "execution_count": 44,
   "id": "f8611763",
   "metadata": {},
   "outputs": [
    {
     "name": "stdout",
     "output_type": "stream",
     "text": [
      "[8, 7, 6, 5, 4, 3, 2, 1]\n"
     ]
    }
   ],
   "source": [
    "# 최대 힙 알고리즘 \n",
    "\n",
    "def heapsort_max(iterable):\n",
    "    h = []\n",
    "    result = []\n",
    "    \n",
    "    for value in iterable:\n",
    "        heapq.heappush(h,-value)\n",
    "        \n",
    "    for _ in range(len(h)):\n",
    "        result.append(-heapq.heappop(h))\n",
    "    return result\n",
    "\n",
    "result = heapsort_max([1,2,3,5,7,6,8,4])\n",
    "print(result)"
   ]
  },
  {
   "cell_type": "markdown",
   "id": "8996b8f7",
   "metadata": {},
   "source": [
    "## bisect"
   ]
  },
  {
   "cell_type": "markdown",
   "id": "68b14a1d",
   "metadata": {},
   "source": [
    "bisect는 정렬된 배열에서 특정한 원소를 찾아야할 때 매우 효과적으로 사용된다."
   ]
  },
  {
   "cell_type": "markdown",
   "id": "0a3ab75e",
   "metadata": {},
   "source": [
    "- bisect_left(a,x) : 정렬된 순서를 유지하면서 리스트 a에 데이터 x를 삽입할 가장 왼쪽 인덱스를 찾는 메서드 <br>\n",
    "- bisect_right(a,x) : 정렬된 순서를 유지하면서 리스트 a에 데이터 x를 삽입할 가장 오른쪽 인덱스를 찾는 메서드"
   ]
  },
  {
   "cell_type": "code",
   "execution_count": 45,
   "id": "7dc706cf",
   "metadata": {},
   "outputs": [
    {
     "name": "stdout",
     "output_type": "stream",
     "text": [
      "2\n",
      "4\n"
     ]
    }
   ],
   "source": [
    "from bisect import bisect_left, bisect_right\n",
    "\n",
    "a = [1,2,4,4,8]\n",
    "x = 4\n",
    "\n",
    "print(bisect_left(a,x))\n",
    "print(bisect_right(a,x))"
   ]
  },
  {
   "cell_type": "code",
   "execution_count": 46,
   "id": "c9edd9d3",
   "metadata": {},
   "outputs": [
    {
     "name": "stdout",
     "output_type": "stream",
     "text": [
      "6\n"
     ]
    }
   ],
   "source": [
    "# 특정 범위에 속하는 원소의 개수 구할 때 효과적으로 사용됨\n",
    "def count_by_range(a,left_value,right_value):\n",
    "    right_index = bisect_right(a,right_value)\n",
    "    left_index = bisect_left(a,left_value)\n",
    "    return right_index - left_index\n",
    "\n",
    "a = [1,2,3,3,3,3,4,4,8,9]\n",
    "\n",
    "# [3,4] 범위 데이터 개수 출력\n",
    "print(count_by_range(a,3,4)) "
   ]
  },
  {
   "cell_type": "markdown",
   "id": "118e6ecc",
   "metadata": {},
   "source": [
    "## collections"
   ]
  },
  {
   "cell_type": "code",
   "execution_count": 47,
   "id": "ef2742a1",
   "metadata": {},
   "outputs": [
    {
     "name": "stdout",
     "output_type": "stream",
     "text": [
      "deque([1, 2, 3, 4, 5])\n",
      "[1, 2, 3, 4, 5]\n"
     ]
    }
   ],
   "source": [
    "from collections import deque\n",
    "\n",
    "data = deque([2,3,4])\n",
    "data.appendleft(1)\n",
    "data.append(5)\n",
    "\n",
    "print(data)\n",
    "print(list(data))"
   ]
  },
  {
   "cell_type": "code",
   "execution_count": 48,
   "id": "d2e7288d",
   "metadata": {},
   "outputs": [
    {
     "name": "stdout",
     "output_type": "stream",
     "text": [
      "deque([1, 2, 3, 4])\n",
      "deque([2, 3, 4])\n"
     ]
    }
   ],
   "source": [
    "data.pop() # 가장 뒤쪽 원소 기준\n",
    "print(data)\n",
    "data.popleft() \n",
    "print(data)"
   ]
  },
  {
   "cell_type": "code",
   "execution_count": 49,
   "id": "5aab48ec",
   "metadata": {},
   "outputs": [
    {
     "name": "stdout",
     "output_type": "stream",
     "text": [
      "3\n",
      "{'A': 3, 'B': 2, 'C': 1}\n"
     ]
    }
   ],
   "source": [
    "# 등장 횟수\n",
    "from collections import Counter\n",
    "\n",
    "counter = Counter(['A','A','A','B','B','C'])\n",
    "\n",
    "print(counter['A'])\n",
    "print(dict(counter))"
   ]
  },
  {
   "cell_type": "markdown",
   "id": "a65c6c5f",
   "metadata": {},
   "source": [
    "## math"
   ]
  },
  {
   "cell_type": "code",
   "execution_count": 50,
   "id": "63a53a2c",
   "metadata": {},
   "outputs": [
    {
     "name": "stdout",
     "output_type": "stream",
     "text": [
      "120\n",
      "2.6457513110645907\n",
      "7\n",
      "3.141592653589793\n",
      "2.718281828459045\n"
     ]
    }
   ],
   "source": [
    "import math\n",
    "\n",
    "print(math.factorial(5))\n",
    "print(math.sqrt(7))\n",
    "print(math.gcd(35,14)) #최대 공약수\n",
    "print(math.pi)\n",
    "print(math.e)"
   ]
  }
 ],
 "metadata": {
  "kernelspec": {
   "display_name": "Python 3 (ipykernel)",
   "language": "python",
   "name": "python3"
  },
  "language_info": {
   "codemirror_mode": {
    "name": "ipython",
    "version": 3
   },
   "file_extension": ".py",
   "mimetype": "text/x-python",
   "name": "python",
   "nbconvert_exporter": "python",
   "pygments_lexer": "ipython3",
   "version": "3.9.6"
  }
 },
 "nbformat": 4,
 "nbformat_minor": 5
}
